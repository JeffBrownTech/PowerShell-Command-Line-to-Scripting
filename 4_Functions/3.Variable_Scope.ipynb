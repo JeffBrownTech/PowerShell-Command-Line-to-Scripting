{
 "cells": [
  {
   "cell_type": "markdown",
   "metadata": {},
   "source": [
    "# Topic 3: Understanding Variable Scope in PowerShell Functions\n",
    "\n",
    "Scope refers to where in your script a variable is visible or accessible. In PowerShell, not all variables are visible everywhere. The scope determines:\n",
    "- Where a variable can be used\n",
    "- Where a variable was created\n",
    "- Whether one part of the script can affect variables in another part\n",
    "\n",
    "## Why Is Scope Important in Functions?\n",
    "When you define a variable inside a function, it usually only exists inside that function. If you try to use that variable outside the function, it won’t be available.\n",
    "\n",
    "This behavior prevents variables from accidentally interfering with each other and helps keep your scripts clean and predictable."
   ]
  },
  {
   "cell_type": "markdown",
   "metadata": {},
   "source": [
    "## Example: Local Scope Inside a Function\n",
    "\n",
    "Review the code below. The function ```Set-Message``` creates the variable ```$msg``` and prints the value.\n",
    "\n",
    "The last line of the script tries to display ```$msg``` again, but the variable does not exist outside the function. The script will display a blank line instead of displaying the message again.\n",
    "\n",
    "Run the code below to see the result."
   ]
  },
  {
   "cell_type": "code",
   "execution_count": 3,
   "metadata": {},
   "outputs": [
    {
     "name": "stdout",
     "output_type": "stream",
     "text": [
      "Hello from inside the function\n"
     ]
    }
   ],
   "source": [
    "function Set-Message {\n",
    "    $msg = \"Hello from inside the function\"\n",
    "    Write-Output $msg\n",
    "}\n",
    "\n",
    "Set-Message\n",
    "\n",
    "# Try to access the variable outside the function\n",
    "Write-Output $msg\n"
   ]
  },
  {
   "cell_type": "markdown",
   "metadata": {},
   "source": [
    "## Scope Types in PowerShell\n",
    "\n",
    "Scope Types in PowerShell\n",
    "PowerShell supports different levels of scope, and you can use scope modifiers to control where a variable lives:\n",
    "\n",
    "- **local (default)**: Only inside the current function or script block\n",
    "- **script**: Available throughout the entire .ps1 file\n",
    "- **global**: Available everywhere, even across scripts (use with caution)\n",
    "- **private**: Used to restrict visibility even within scripts (rarely used by beginners)"
   ]
  },
  {
   "cell_type": "markdown",
   "metadata": {},
   "source": [
    "## Example 2: Using global: Scope\n",
    "\n",
    "Review the script and function code below. The variable ```$message``` was created using the ```global:``` scope, so it persists outside the function.\n",
    "\n",
    "**Warning**: Overusing ```global:``` can make scripts harder to maintain and debug, especially if multiple functions use the same global variables.\n",
    "\n",
    "```powershell\n",
    "function Set-GlobalVar {\n",
    "    $global:message = \"This is a global variable\"\n",
    "}\n",
    "\n",
    "Set-GlobalVar\n",
    "Write-Output $message\n",
    "```"
   ]
  },
  {
   "cell_type": "markdown",
   "metadata": {},
   "source": [
    "## Example 3: Using script: Scope\n",
    "\n",
    "```script:``` scope is useful if you want a variable to be shared across functions in the same ```.ps1``` file but not available outside it. The example below will print the value of ```$dataPath``` outside the function.\n",
    "\n",
    "```powershell\n",
    "function Set-ScriptVar {\n",
    "    $script:dataPath = \"C:\\Data\"\n",
    "}\n",
    "\n",
    "Set-ScriptVar\n",
    "Write-Output $dataPath\n",
    "```"
   ]
  },
  {
   "cell_type": "markdown",
   "metadata": {},
   "source": [
    "## Example 4: Returning a Value Instead of Relying on Scope\n",
    "Instead of forcing variables to be global, return values from your function and store them.\n",
    "\n",
    "This is the preferred way to share values between functions and your script.\n",
    "\n",
    "```powershell\n",
    "function Get-RandomNumber {\n",
    "    $num = Get-Random -Minimum 1 -Maximum 100\n",
    "    return $num\n",
    "}\n",
    "\n",
    "$myNumber = Get-RandomNumber\n",
    "Write-Output \"You rolled a $myNumber!\"\n",
    "```"
   ]
  },
  {
   "cell_type": "markdown",
   "metadata": {},
   "source": [
    "## Exercise: Using ```script:``` Scope Across Functions\n",
    "\n",
    "Create a function called ```Set-Username``` that sets a ```$script:userName``` variable to \"Student\".\n",
    "\n",
    "Then, write another function called ```Show-Username``` that prints the value of ```$userName```.\n",
    "\n",
    "When ready, view an example solution here: [DisplayUsername.ps1](./solutions/DisplayUsername.ps1)"
   ]
  }
 ],
 "metadata": {
  "kernelspec": {
   "display_name": "PowerShell",
   "language": "powershell",
   "name": "powershell"
  },
  "language_info": {
   "codemirror_mode": "shell",
   "file_extension": ".ps1",
   "mimetype": "text/x-sh",
   "name": "powershell"
  }
 },
 "nbformat": 4,
 "nbformat_minor": 2
}
