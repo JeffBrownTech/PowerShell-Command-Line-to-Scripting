{
 "cells": [
  {
   "cell_type": "markdown",
   "metadata": {},
   "source": [
    "# Getting Started with Functions\n",
    "\n",
    "In PowerShell, a function is a named block of code that performs a specific task. You can \"call\" the function by its name whenever you need to run that task. Think of a function like a kitchen recipe:\n",
    "\n",
    "You give it a name (\"Make-Pancakes\").\n",
    "\n",
    "It has a list of steps (the code). You follow the steps every time you want the same result. You can reuse it as many times as you like, without rewriting it. Or like a tool in your toolbox — once it’s built, you can just grab it and use it when needed.\n",
    "\n",
    "Functions should have a single purpose - whether it's calculating a value, starting a service, or logging to a file.\n",
    "\n",
    "Why Use Functions?\n",
    "- Reusability: Write once, use many times.\n",
    "- Clean Code: Break large scripts into smaller, manageable parts.\n",
    "- Easier Testing: Test individual pieces of logic.\n",
    "- Improved Readability: Functions have descriptive names that show what they do."
   ]
  },
  {
   "cell_type": "markdown",
   "metadata": {},
   "source": [
    "## Defining Functions\n",
    "Use the ```function``` keyword to define a function. In general, use the same format as PowerShell cmdlets with a ```Verb-Noun``` format.\n",
    "\n",
    "```powershell\n",
    "function Function-Name {\n",
    "    # Code to run\n",
    "}\n",
    "```\n",
    "\n",
    "Here is an example function that displays a message.\n",
    "\n",
    "```powershell\n",
    "function Say-Hello {\n",
    "    Write-Output \"Hello from the function!\"\n",
    "}\n",
    "```\n",
    "\n",
    "To run the function, just type: ```Say-Hello```."
   ]
  },
  {
   "cell_type": "markdown",
   "metadata": {},
   "source": [
    "## Example: Clean Up Temporary Files in a Folder\n",
    "You have a folder that you need to reguarly clean up temporary files. You can write a function and call it anytime you need to remove the files.\n",
    "\n",
    "Here is the ```Remove-TempFiles``` function:\n",
    "\n",
    "```powershell\n",
    "function Remove-TempFiles {\n",
    "    $tempPath = \"$env:TEMP\"\n",
    "    Get-ChildItem -Path $tempPath -Recurse -Force |\n",
    "        Where-Object { -not $_.PSIsContainer } |\n",
    "        Remove-Item -Force -ErrorAction SilentlyContinue\n",
    "\n",
    "    Write-Output \"Temporary files removed from $tempPath\"\n",
    "}\n",
    "```"
   ]
  },
  {
   "cell_type": "markdown",
   "metadata": {},
   "source": [
    "##Example: Restart a Specific Service\n",
    "You regularly need to restart a specific service on your system. You can write a function that specifically targets that service.\n",
    "\n",
    "Here is the function ```Restart-Spooler``` that targets the local print spooler service.\n",
    "\n",
    "```powershell\n",
    "function Restart-Spooler {\n",
    "    Restart-Service -Name 'Spooler' -Force\n",
    "    Write-Output \"The Print Spooler service has been restarted.\"\n",
    "}\n",
    "```"
   ]
  },
  {
   "cell_type": "markdown",
   "metadata": {},
   "source": [
    "## Functions and Writing Script Files\n",
    "When writing PowerShell scripts (usually saved as .ps1 files), functions are the building blocks of your script’s logic. Think of a script as the full blueprint, and functions as the specific tools or steps used to carry it out.\n",
    "\n",
    "Here's how they typically fit in:\n",
    "\n",
    "## Organize Code into Sections\n",
    "Instead of a long list of commands, functions let you structure your script with clear sections.\n",
    "\n",
    "```powershell\n",
    "function Get-UserInput { ... }\n",
    "function Validate-Input { ... }\n",
    "function Perform-Action { ... }\n",
    "\n",
    "# Main script execution\n",
    "$userInput = Get-UserInput\n",
    "if (Validate-Input -Input $userInput) {\n",
    "    Perform-Action -Data $userInput\n",
    "}\n",
    "```"
   ]
  },
  {
   "cell_type": "markdown",
   "metadata": {},
   "source": [
    "### Reuse Logic\n",
    "If the same task needs to happen more than once (like logging, validation, or cleanup), put it in a function and reuse it.\n",
    "\n",
    "For example, you can call ```Write-Log``` throughout the script whenever you need to log something.\n",
    "\n",
    "```powershell\n",
    "Copy\n",
    "Edit\n",
    "function Write-Log {\n",
    "    param($Message)\n",
    "    Add-Content -Path \"log.txt\" -Value \"$(Get-Date): $Message\"\n",
    "}\n",
    "```"
   ]
  },
  {
   "cell_type": "markdown",
   "metadata": {},
   "source": [
    "### Support Modularity and Reuse Across Scripts\n",
    "You can even extract useful functions into a shared .psm1 module or a .ps1 file and import them into multiple scripts. This avoids duplication and standardizes behavior."
   ]
  },
  {
   "cell_type": "markdown",
   "metadata": {},
   "source": [
    "## Exercise: Display System Information\n",
    "Write a PowerShell script with a function that displays the computer's hostname and the current date and time. The script should have the function definition, and the script should call the function from within the script.\n",
    "\n",
    "When ready, view a possible solution here: [System_Info.ps1](./solutions/System_Info.ps1)"
   ]
  }
 ],
 "metadata": {
  "language_info": {
   "name": "python"
  }
 },
 "nbformat": 4,
 "nbformat_minor": 2
}
