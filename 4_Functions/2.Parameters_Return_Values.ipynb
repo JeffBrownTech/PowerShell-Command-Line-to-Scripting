{
 "cells": [
  {
   "cell_type": "markdown",
   "metadata": {},
   "source": [
    "# Working with Parameters and Returning Values in PowerShell Functions\n",
    "\n",
    "In the previous lesson, we created basic functions, but they were limited—they always did the same thing. Parameters allow us to pass information into a function, making it more flexible and reusable."
   ]
  },
  {
   "cell_type": "markdown",
   "metadata": {},
   "source": [
    "### Example: Function That Accepts a Name\n",
    "\n",
    "```powershell\n",
    "function Say-Hello {\n",
    "    param (\n",
    "        [string]$Name\n",
    "    )\n",
    "\n",
    "    Write-Output \"Hello, $Name!\"\n",
    "}\n",
    "\n",
    "# Calling the function with a parameter\n",
    "Say-Hello -Name \"Alex\"\n",
    "```"
   ]
  },
  {
   "cell_type": "markdown",
   "metadata": {},
   "source": [
    "## How Do Functions Return Values?\n",
    "In PowerShell, functions automatically return any output unless you explicitly suppress it. There are two ways to return values:\n",
    "\n",
    "1️⃣ Implicit Return\n",
    "\n",
    "PowerShell automatically returns the last value generated.\n",
    "\n",
    "Example: Get Square of a Number (Implicit Return)\n",
    "```powershell\n",
    "function Get-Square {\n",
    "    param ([int]$Number)\n",
    "\n",
    "    $Number * $Number  # This value is automatically returned\n",
    "}\n",
    "\n",
    "# Store the result in a variable\n",
    "$result = Get-Square -Number 4\n",
    "Write-Output \"The square is: $result\"\n",
    "```"
   ]
  },
  {
   "cell_type": "markdown",
   "metadata": {},
   "source": [
    "2️⃣ Explicit Return (Using return)\n",
    "\n",
    "You can use the return keyword to make the function behavior clearer.\n",
    "\n",
    "Example: Using return to Send a Value\n",
    "```powershell\n",
    "function Get-Square {\n",
    "    param ([int]$Number)\n",
    "\n",
    "    return $Number * $Number\n",
    "}\n",
    "\n",
    "$result = Get-Square -Number 5\n",
    "Write-Output \"The square is: $result\"\n",
    "```"
   ]
  },
  {
   "cell_type": "markdown",
   "metadata": {},
   "source": [
    "## Example: Converting Fahrenheit to Celsius\n",
    "Think back to earlier lessons where you created a script to convert the temperature. This task could be needed multiple times in a script and is perfect for creating a function.\n",
    "\n",
    "```powershell\n",
    "function ConvertTo-Celsius {\n",
    "    param ([double]$Fahrenheit)\n",
    "\n",
    "    return ($Fahrenheit - 32) * 5 / 9\n",
    "}\n",
    "\n",
    "$tempC = ConvertTo-Celsius -Fahrenheit 100\n",
    "Write-Output \"100°F is $tempC°C\"\n",
    "```"
   ]
  },
  {
   "cell_type": "markdown",
   "metadata": {},
   "source": [
    "## Exercise: Build a Function with Parameters and a Return Value\n",
    "\n",
    "Write a function ```Get-RectangleArea``` that calculates the area of a rectangle given two parameters (length and width). The function should return the calculated area (length * width).\n",
    "\n",
    "Include the function in a script, then call the function from the main body of the script. Feel free to call it multiple times and print the result in a friendly message.\n",
    "\n",
    "**Bonus**: Loop through multiple measurements and display the results.\n",
    "\n",
    "When ready, view a sample solution here: [CalculateRectangleArea.ps1](./solutions/CalculateRectangleArea.ps1)"
   ]
  }
 ],
 "metadata": {
  "language_info": {
   "name": "csharp"
  }
 },
 "nbformat": 4,
 "nbformat_minor": 2
}
