{
 "cells": [
  {
   "cell_type": "markdown",
   "metadata": {},
   "source": [
    "# Intro to Advanced Functions\n",
    "\n",
    "An advanced function in PowerShell looks and behaves more like a full-fledged cmdlet. It uses special features like ```param()``` blocks, automatic support for ```-Verbose```, ```-ErrorAction```, and even input from the pipeline.\n",
    "\n",
    "These functions give you more power and flexibility—and they form the foundation for writing professional-grade tools and reusable scripts.\n",
    "\n",
    "## What Makes a Function \"Advanced\"?\n",
    "An advanced function includes:\n",
    "\n",
    "- ```[CmdletBinding()]``` above the param() block\n",
    "- Well-defined parameter sets\n",
    "- Optional support for pipeline input"
   ]
  },
  {
   "cell_type": "markdown",
   "metadata": {},
   "source": [
    "## Advanced Function Structure\n",
    "\n",
    "Review the example advanced function below.\n",
    "- ```[CmdletBinding()]``` is what upgrades the function to advanced\n",
    "- The ```param()``` block is clean and clearly defined\n",
    "- You can now run this function with ```-Verbose``` or ```-ErrorAction``` built-in!\n",
    "\n",
    "```powershell\n",
    "function Get-Greeting {\n",
    "    [CmdletBinding()]\n",
    "    param (\n",
    "        [string]$Name\n",
    "    )\n",
    "\n",
    "    Write-Output \"Hello, $Name!\"\n",
    "}\n",
    "```"
   ]
  },
  {
   "cell_type": "markdown",
   "metadata": {},
   "source": [
    "## What Is [CmdletBinding()] in PowerShell?\n",
    "\n",
    "```[CmdletBinding()]``` is a special attribute you add to a function to turn it into an advanced function. It gives your function cmdlet-like features—the same kinds of behaviors and controls you get when using built-in PowerShell commands like ```Get-Process``` or ```Stop-Service```.\n",
    "\n",
    "Once you add ```[CmdletBinding()]```, PowerShell treats your function like a cmdlet behind the scenes. You can then take advantage of a number of built-in features without writing extra code.\n",
    "\n",
    "### What Does `[CmdletBinding()]` Enable?\n",
    "\n",
    "| Feature              | What It Does                                                                 |\n",
    "|----------------------|------------------------------------------------------------------------------|\n",
    "| `-Verbose`           | Allows detailed output when the user specifies `Write-Verbose`                   |\n",
    "| `-Debug`             | Enables debug messages using `Write-Debug`                                  |\n",
    "| `-ErrorAction`       | Lets the user control how the function handles errors (`Stop`, `Continue`, etc.) |\n",
    "| `-ErrorVariable`     | Lets the user store errors in a custom variable                             |\n",
    "| `SupportsShouldProcess` (optional) | Enables `-WhatIf` and `-Confirm` support for safe, reversible operations |\n",
    "| Pipeline support     | Prepares your function to receive input from the pipeline (if defined)      |\n"
   ]
  }
 ],
 "metadata": {
  "language_info": {
   "name": "csharp"
  }
 },
 "nbformat": 4,
 "nbformat_minor": 2
}
