{
 "cells": [
  {
   "cell_type": "markdown",
   "metadata": {},
   "source": [
    "# Adding Help to Your Functions\n",
    "\n",
    "When you run built-in PowerShell commands, you can use ```Get-Help``` to see how they work, what parameters they accept, and examples of usage.\n",
    "\n",
    "Wouldn’t it be great if your own functions could do the same?\n",
    "\n",
    "By adding comment-based help to your functions, you:\n",
    "- Make your code easier to understand (for you and others)\n",
    "- Document what your function does and how to use it\n",
    "- Allow others to run ```Get-Help Your-FunctionName``` just like with built-in cmdlets"
   ]
  },
  {
   "cell_type": "markdown",
   "metadata": {},
   "source": [
    "## Comment-Based Help\n",
    "Comment-based help is a special kind of block comment placed directly above a function that follows a standard format. The help content is placed between a multi-line comment (```<# #>```). PowerShell recognizes this format and uses it when someone runs Get-Help.\n",
    "\n",
    "It typically includes:\n",
    "\n",
    "- ```.SYNOPSIS``` – A short summary of what the function does\n",
    "- ```.DESCRIPTION``` – A longer explanation (optional but helpful)\n",
    "- ```.PARAMETER``` – Explanation of each parameter\n",
    "- ```.EXAMPLE``` – One or more usage examples\n",
    "- ```.NOTES```, ```.OUTPUTS```, .```INPUTS``` – Optional extra details"
   ]
  },
  {
   "cell_type": "markdown",
   "metadata": {},
   "source": [
    "### Example\n",
    "\n",
    "```powershell\n",
    "function Say-Hello {\n",
    "<#\n",
    ".SYNOPSIS\n",
    "    Greets the user by name.\n",
    "\n",
    ".DESCRIPTION\n",
    "    This function accepts a name as input and prints a greeting message to the console.\n",
    "\n",
    ".PARAMETER Name\n",
    "    The name of the person to greet.\n",
    "\n",
    ".EXAMPLE\n",
    "    Say-Hello -Name \"Alex\"\n",
    "\n",
    "    Output:\n",
    "    Hello, Alex!\n",
    "#>\n",
    "    param (\n",
    "        [string]$Name\n",
    "    )\n",
    "\n",
    "    Write-Output \"Hello, $Name!\"\n",
    "}\n",
    "```"
   ]
  },
  {
   "cell_type": "markdown",
   "metadata": {},
   "source": [
    "### Best Practices\n",
    "\n",
    "- Always place it directly above the function block.\n",
    "- Use the ```<# ... #>``` block comment syntax.\n",
    "- Add at least a ```.SYNOPSIS```, ```.PARAMETER```, and ```.EXAMPLE``` to every function.\n",
    "- Use plain language—you're writing for future-you and other users.\n",
    "- Keep examples short, clear, and executable.\n",
    "- If your function changes, update the help block too.\n",
    "- Indent consistently to keep it readable.\n",
    "- You can include multiple ```.EXAMPLE``` entries to show different use cases."
   ]
  },
  {
   "cell_type": "markdown",
   "metadata": {},
   "source": [
    "## Exercise: Add Help to a Function\n",
    "\n",
    "Given the function below, add comment-based help block. Include at least a synopsis, description, parameter, and one or more examples.\n",
    "\n",
    "```powershell\n",
    "function ConvertTo-Celsius {\n",
    "    param (\n",
    "        [double]$Fahrenheit\n",
    "    )\n",
    "\n",
    "    return ($Fahrenheit - 32) * 5 / 9\n",
    "}\n",
    "```\n",
    "\n",
    "When ready, view a possible solution here: [CommentHelp.ps1](./solutions/CommentHelp.ps1)"
   ]
  },
  {
   "cell_type": "markdown",
   "metadata": {},
   "source": [
    "## External Help Files\n",
    "\n",
    "For more advanced scenarios—especially when building PowerShell modules—you can provide help using **external help files**. These are separate XML files that store the documentation for your functions outside of the script itself.\n",
    "\n",
    "External help allows for localized translations, easy updates, and a consistent documentation experience, just like built-in PowerShell cmdlets.\n",
    "\n",
    "While this method is more complex and typically used in professional module development, it's good to know that it's available as your scripts grow in size and audience."
   ]
  }
 ],
 "metadata": {
  "language_info": {
   "name": "csharp"
  }
 },
 "nbformat": 4,
 "nbformat_minor": 2
}
