{
 "cells": [
  {
   "cell_type": "markdown",
   "metadata": {},
   "source": [
    "# Challenge: Sentence Analyzer\n",
    "In this exercise, you will analyze and modify a sentence using string manipulation, comparison operators, and methods you’ve learned so far.\n",
    "\n",
    "## What You Need to Know:\n",
    "- Variables store and manipulate string data.\n",
    "- String properties and methods allow you to modify text (e.g., .ToUpper(), .Replace()).\n",
    "- Comparison operators help determine conditions (e.g., -gt to check if the sentence exceeds a certain length).\n",
    "- Arrays can be created by splitting a string into words.\n",
    "\n",
    "## Your Task\n",
    "Using the following sentence:\n",
    "\n",
    "```Farmer jack realized that big yellow quilts (although very pretty) were expensive.```\n",
    "\n",
    "Complete the tasks below:\n",
    "\n",
    "1️. Print the original sentence to the console.\n",
    "\n",
    "2️. Store the total number of characters in a variable and print it.\n",
    "\n",
    "3️. Check if the sentence has more than 50 characters and output True or False using a comparison operator.\n",
    "\n",
    "4️. Convert the sentence to uppercase and store the result in a new variable, then output it.\n",
    "\n",
    "5️. Remove special characters (such as dashes, parentheses, and periods) and store the cleaned sentence in a new variable (or overwrite the existing one).\n",
    "\n",
    "6️. Print the modified sentence to the console.\n",
    "\n",
    "7️. Count the number of words in the sentence and output the result (Hint: Convert the string into an array using an operator or method).\n",
    "\n",
    "If completed correctly, your code should produce output similar to this:\n",
    "```\n",
    "Farmer jack realized that big yellow quilts (although very pretty) were expensive.\n",
    "The total number of characters in the sentence is: 82\n",
    "More than 50 characters? True\n",
    "FARMER JACK REALIZED THAT BIG YELLOW QUILTS (ALTHOUGH VERY PRETTY) WERE EXPENSIVE.\n",
    "Farmer jack realized that big yellow quilts although very pretty were expensive\n",
    "Number of words in the sentence: 12\n",
    "```\n",
    "\n",
    "When ready, view the suggested solution here:\n",
    "[sentence_analyzer.ps1](./solutions/sentence_analyzer.ps1)"
   ]
  },
  {
   "cell_type": "code",
   "execution_count": null,
   "metadata": {},
   "outputs": [],
   "source": [
    "$sentence = \"Farmer jack realized that big yellow quilts (although very pretty) were expensive.\"\n",
    "\n",
    "# Your code here"
   ]
  }
 ],
 "metadata": {
  "kernelspec": {
   "display_name": "PowerShell",
   "language": "powershell",
   "name": "powershell"
  },
  "language_info": {
   "codemirror_mode": "shell",
   "file_extension": ".ps1",
   "mimetype": "text/x-sh",
   "name": "powershell"
  }
 },
 "nbformat": 4,
 "nbformat_minor": 2
}
