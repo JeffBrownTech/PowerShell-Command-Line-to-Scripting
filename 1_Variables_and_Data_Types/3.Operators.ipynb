{
 "cells": [
  {
   "cell_type": "markdown",
   "metadata": {},
   "source": [
    "# Operators in PowerShell\n",
    "\n",
    "Operators in PowerShell allow you to compare, manipulate, and combine data stored in variables. They are essential for performing calculations, evaluating conditions, and modifying strings or arrays."
   ]
  },
  {
   "cell_type": "markdown",
   "metadata": {},
   "source": [
    "## Comparison Operators\n",
    "Comparison operators are used to compare values and return a Boolean (```$true``` or ```$false```).\n",
    "\n",
    "| Operator | Meaning         | Example   | Output                                   |\n",
    "|----------|-----------------|-----------|------------------------------------------|\n",
    "|-eq       |Equals           |$a -eq $b  |$true if $a is equal to $b                |\n",
    "|-ne       |Not Equal        |$a -ne $b  |$true if $a is not equal to $b            |\n",
    "|-gt       |Greater Than     |$a -gt $b  |$true if $a is greater than $b            |\n",
    "|-lt       |Less Than        |$a -lt $b  |$true if $a is less than $b               |\n",
    "|-ge       |Greater or Equal |$a -ge $b  |$true if $a is greater than or equal to $b|\n",
    "|-le       |Less or Equal    |$a -le $b  |$true if $a is less than or equal to $b   |\n",
    "\n",
    "Run the code below to see comparison operators in action."
   ]
  },
  {
   "cell_type": "code",
   "execution_count": 7,
   "metadata": {},
   "outputs": [
    {
     "name": "stdout",
     "output_type": "stream",
     "text": [
      "True\n",
      "False\n"
     ]
    }
   ],
   "source": [
    "$age = 25\n",
    "Write-Output ($age -gt 18)  # Outputs: True\n",
    "Write-Output ($age -lt 18)  # Outputs: False"
   ]
  },
  {
   "cell_type": "markdown",
   "metadata": {},
   "source": [
    "## String Operators\n",
    "PowerShell provides operators for working with string values.\n",
    "\n",
    "|Operator |Meaning                                               |Example                      |Output        |\n",
    "|---------|------------------------------------------------------|-----------------------------|--------------|\n",
    "|-match   |Checks if a string matches a pattern (supports regex) |\"PowerShell\" -match \"Shell\"  |$true         |\n",
    "|-like    |Checks if a string matches a wildcard pattern         |\"PowerShell\" -like \"Power*\"  |$true         |\n",
    "|-join    |Joins multiple values into a single string            |(\"Hello\", \"World\") -join \" \" |\"Hello World\" |\n",
    "|-split   |Splits a string into an array based on a delimiter    |\"Hello World\" -split \" \"     |Hello<br>World|        |\n",
    "\n",
    "Run the code below to see string operators in action."
   ]
  },
  {
   "cell_type": "code",
   "execution_count": 17,
   "metadata": {},
   "outputs": [
    {
     "name": "stdout",
     "output_type": "stream",
     "text": [
      "True\n",
      "Hello, World\n",
      "The\n",
      "quick\n",
      "brown\n",
      "fox\n",
      "jumps\n",
      "over\n",
      "the\n",
      "lazy\n",
      "dog\n"
     ]
    }
   ],
   "source": [
    "$name = \"PowerShell\"\n",
    "\n",
    "# Pattern matching\n",
    "Write-Output ($name -like \"Power*\")   # Outputs: True\n",
    "\n",
    "# Joining strings\n",
    "$words = \"Hello\", \"World\"\n",
    "Write-Output ($words -join \", \")  # Outputs: Hello, World\n",
    "\n",
    "# Splitting strings\n",
    "$pangram = \"The quick brown fox jumps over the lazy dog\"\n",
    "$pangram -split \" \""
   ]
  },
  {
   "cell_type": "markdown",
   "metadata": {},
   "source": [
    "## Arithmetic Operators\n",
    "Arithmetic operators perform calculations on numerical values.\n",
    "\n",
    "| Operator | Description | Example | Output |\n",
    "|----------|-------------|---------|--------|\n",
    "| +  | Addition | $a + $b | Sum of $a and $b |\n",
    "| -  | Subtraction | $a - $b | Difference between $a and $b |\n",
    "| *  | Multiplication | $a * $b | Product of $a and $b |\n",
    "| /  | Division | $a / $b | Quotient of $a and $b |\n",
    "| %  | Modulus (Remainder) | $a % $b | Remainder when $a is divided by $b |\n",
    "\n",
    "Run the code below to see arithmetic operators in action."
   ]
  },
  {
   "cell_type": "code",
   "execution_count": 9,
   "metadata": {},
   "outputs": [
    {
     "name": "stdout",
     "output_type": "stream",
     "text": [
      "Sum: 15, Remainder: 1\n"
     ]
    }
   ],
   "source": [
    "$sum = 10 + 5       # 15\n",
    "$remainder = 10 % 3 # 1\n",
    "Write-Output \"Sum: $sum, Remainder: $remainder\""
   ]
  },
  {
   "cell_type": "markdown",
   "metadata": {},
   "source": [
    "## Assignment Operators\n",
    "Assignment operators modify variable values while assigning the result to the variable.\n",
    "\n",
    "| Operator | Description | Example | Equivalent To |\n",
    "|----------|-------------|---------|--------------|\n",
    "| += | Adds and assigns | $x += 5 | $x = $x + 5 |\n",
    "| -= | Subtracts and assigns | $x -= 3 | $x = $x - 3 |\n",
    "| *= | Multiplies and assigns | $x *= 2 | $x = $x * 2 |\n",
    "| /= | Divides and assigns | $x /= 4 | $x = $x / 4 |\n",
    "| %= | Modulus and assigns | $x %= 3 | $x = $x % 3 |\n",
    "| ++ | Increments by 1 | $x++ | $x = $x + 1 |\n",
    "| -- | Decrements by 1 | $x-- | $x = $x - 1 |\n",
    "\n",
    "Run the code below to see assignment operators in action."
   ]
  },
  {
   "cell_type": "code",
   "execution_count": 10,
   "metadata": {},
   "outputs": [
    {
     "name": "stdout",
     "output_type": "stream",
     "text": [
      "15\n",
      "12\n",
      "24\n"
     ]
    }
   ],
   "source": [
    "$x = 10\n",
    "$x += 5   # Equivalent to $x = $x + 5\n",
    "Write-Output $x  # Outputs: 15\n",
    "\n",
    "$y = 15\n",
    "$y -= 3   # Equivalent to $x = $x - 3\n",
    "Write-Output $y  # Outputs: 12\n",
    "\n",
    "$z = 12\n",
    "$z *= 2   # Equivalent to $x = $x * 2\n",
    "Write-Output $z  # Outputs: 24"
   ]
  },
  {
   "cell_type": "markdown",
   "metadata": {},
   "source": [
    "## Logical Operators\n",
    "Logical operators help evaluate multiple comparisons and returns ```$true``` or ```$false```.\n",
    "\n",
    "|Operator |Meaning |Example|\n",
    "|---------|--------|-------|\n",
    "|-and   |True if both conditions are true       |($a -gt 5 -and $b -lt 10)|\n",
    "|-or    |True if at least one condition is true |($a -eq 5 -or $b -eq 10) |\n",
    "|-not ! |Reverses the condition                 |-not ($a -eq 5)          |\n",
    "\n",
    "Run the code below to see logical operators in action."
   ]
  },
  {
   "cell_type": "code",
   "execution_count": 12,
   "metadata": {},
   "outputs": [
    {
     "name": "stdout",
     "output_type": "stream",
     "text": [
      "True\n",
      "False\n",
      "True\n"
     ]
    }
   ],
   "source": [
    "$age = 25\n",
    "$isMember = $true\n",
    "\n",
    "Write-Output ($age -gt 18 -and $isMember)  # Outputs: True as $age is greater than 18 requals True AND $isMember equals $true\n",
    "Write-Output (-not $isMember)              # Outputs: False as False is the opposite of the value of $isMember\n",
    "\n",
    "\n",
    "$age = 21\n",
    "$hasPermission = $false\n",
    "\n",
    "Write-Output ($age -ge 18 -or $hasPermission) #Outputs: True because $age is greater than 18 even though $hasPermission is $false"
   ]
  },
  {
   "cell_type": "markdown",
   "metadata": {},
   "source": [
    "## Operator Precedence\n",
    "\n",
    "When multiple operators appear in an expression, PowerShell follows operator precedence (order of operations). The general order is:\n",
    "\n",
    "1. Parentheses ```()```\n",
    "2. Multiplication ```*```, Division ```/```, Modulus ```%```\n",
    "3. Addition ```+```, Subtraction ```-```\n",
    "4. Comparison operators (```-eq```, ```-gt```, ```-lt```, etc.)\n",
    "5. Logical operators (```-and```, ```-or```)\n",
    "\n",
    "Examples:\n",
    "```powershell\n",
    "$result = 5 + 3 * 2\n",
    "Write-Output $result  # Outputs: 11 (Multiplication happens first)\n",
    "\n",
    "# Change the precedence using parenthesis\n",
    "$result = (5 + 3) * 2\n",
    "Write-Output $result  # Outputs: 16\n",
    "```\n",
    "\n",
    "Review the code sample below and determine what the outputs will be. When ready, execute the code to see if you're correct!"
   ]
  },
  {
   "cell_type": "code",
   "execution_count": 16,
   "metadata": {},
   "outputs": [
    {
     "name": "stdout",
     "output_type": "stream",
     "text": [
      "Question 1 Result: False\n",
      "Question 2 Result: True\n",
      "Question 3 Result: True\n"
     ]
    }
   ],
   "source": [
    "# Question 1\n",
    "$result1 = (10 + 5) -gt 20 -and (100 / 20) -lt 10\n",
    "\"Question 1 Result: $result1\"\n",
    "\n",
    "# Question 2\n",
    "$result2 = (10 * 6) -gt 50 -or (10 / 3) -gt 50\n",
    "\"Question 2 Result: $result2\"\n",
    "\n",
    "# Question 3\n",
    "$result3 = (10 % 3) -le 1 -and (20 * 3) -eq 60\n",
    "\"Question 3 Result: $result3\""
   ]
  },
  {
   "cell_type": "markdown",
   "metadata": {},
   "source": [
    "## Summary\n",
    "- Comparison Operators (```-eq```, ```-gt```, ```-lt```) → Compare values.\n",
    "- String Operators (```-join```, ```-like```, ```-match```) → Work with text.\n",
    "- Arithmetic Operators (```+```, ```-```, ```*```, ```/```, ```%```) → Perform calculations.\n",
    "- Logical Operators (```-and```, ```-or```, ```-not```) → Evaluate conditions.\n",
    "- Assignment Operators (```=```, ```+=```, ```-=```) → Assign values to variables.\n",
    "- Operator Precedence → Determines execution order in expressions."
   ]
  }
 ],
 "metadata": {
  "kernelspec": {
   "display_name": "PowerShell",
   "language": "powershell",
   "name": "powershell"
  },
  "language_info": {
   "codemirror_mode": "shell",
   "file_extension": ".ps1",
   "mimetype": "text/x-sh",
   "name": "powershell"
  }
 },
 "nbformat": 4,
 "nbformat_minor": 2
}
