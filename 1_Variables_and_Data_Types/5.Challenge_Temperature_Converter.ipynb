{
 "cells": [
  {
   "cell_type": "markdown",
   "metadata": {},
   "source": [
    "# Challenge: Temperature Converter\n",
    "In this challenge, you will create a PowerShell script that converts a temperature from Fahrenheit (°F) to Celsius (°C).\n",
    "\n",
    "## What You Need to Know:\n",
    "- A variable stores a value that can be used in calculations.\n",
    "- PowerShell supports mathematical operations like addition (+), subtraction (-), multiplication (*), and division (/).\n",
    "- The formula for converting Fahrenheit to Celsius is:\n",
    "  \n",
    "$$\n",
    "Celsius = \\frac{(Fahrenheit - 32) \\times 5}{9}\n",
    "$$\n",
    "\n",
    "## Your Tasks\n",
    "1. Create a variable that holds a temperature in Fahrenheit.\n",
    "2. Apply the conversion formula to calculate the equivalent Celsius temperature.\n",
    "3. Store the result in another variable.\n",
    "4. Print the result in a user-friendly message.\n",
    "\n",
    "Bonus:\n",
    "- Find a ```Math``` static method to *round* the result to 1 decimal place\n",
    "\n",
    "The code output should look like this (depending on bonus portion is completed):\n",
    "```\n",
    "100 F is equal to 37.7777777777778 C\n",
    "100 F is equal to 37.8 C\n",
    "```\n",
    "\n",
    "When ready, view the suggested solution here:\n",
    "[temperature_converter.ps1](./solutions/temperature_converter.ps1)"
   ]
  },
  {
   "cell_type": "code",
   "execution_count": null,
   "metadata": {
    "vscode": {
     "languageId": "powershell"
    }
   },
   "outputs": [],
   "source": [
    "# Define a temperature in Fahrenheit\n",
    "$fahrenheit = 100\n",
    "\n",
    "# Your Code Here"
   ]
  }
 ],
 "metadata": {
  "language_info": {
   "name": "python"
  }
 },
 "nbformat": 4,
 "nbformat_minor": 2
}
