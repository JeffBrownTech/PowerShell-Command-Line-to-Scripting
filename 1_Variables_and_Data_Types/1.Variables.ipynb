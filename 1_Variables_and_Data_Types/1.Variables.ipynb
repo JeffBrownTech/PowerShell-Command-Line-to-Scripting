{
 "cells": [
  {
   "cell_type": "markdown",
   "metadata": {},
   "source": [
    "# Variables in PowerShell\n",
    "\n",
    "## What are Variables?\n",
    "Variables in PowerShell serve as placeholders for data, allowing users to store, retrieve, and manipulate information dynamically. They provide flexibility in scripting, enabling automation, user input handling, and data processing.\n",
    "\n",
    "## Declaring Variables in PowerShell\n",
    "In PowerShell, you don’t need to declare a variable before using it. Just assign a value, and PowerShell will automatically create the variable for you. You denote PowerShell variables using a dollar sign (```$```).\n",
    "\n",
    "PowerShell Facts and Best Practices:\n",
    "- Variables names are not case-sensitive.\n",
    "- Variable names include alphanumeric characters and special characters.\n",
    "  - However, limit special characters to the underscore character (```_```).\n",
    "- Variable names can include spaces and specials characters (best practices is to avoid this).\n",
    "\n",
    "While variable names are non case-sensitive, you should use a consistent capitalization strategy when writing scripts and functions. There are two formats to consider.\n",
    "- **PascalCase**\n",
    "  - Each word in the variable starts with an uppercase letter\n",
    "  - No underscores or special characters are used (unless necessary)\n",
    "  - Matches built-in PowerShell variables (e.g. ```$ErrorActionPreference```)\n",
    "  - Examples: ```$UserName```, ```$TotalFiles```, ```$ServerStatus```\n",
    "- **camelCase**\n",
    "  - The first word is lowercase, the rest are uppercase\n",
    "  - No underscores or special characters are used (unless necessary)\n",
    "  - Examples: ```$userName```, ```$totalFiles```, ```$serverStatus```\n",
    "\n",
    "**Note**: The code samples in these tutorials use camelCase, as preferred by the author. However, the important thing is to pick a convention and follow it consistently.\n",
    "\n",
    "```powershell\n",
    "$greeting = \"Hello, World!\"   # String\n",
    "$number   = 42                # Integer\n",
    "$decimal  = 3.14              # Floating-point number\n",
    "$isReady  = $true             # Boolean (True/False)\n",
    "```\n",
    "\n",
    "Use the code window below to create a variable called ```$myName``` with your name as the value, then run the code to output a greeting message."
   ]
  },
  {
   "cell_type": "code",
   "execution_count": null,
   "metadata": {},
   "outputs": [
    {
     "name": "stdout",
     "output_type": "stream",
     "text": [
      "Hello, Jeff!\n"
     ]
    }
   ],
   "source": [
    "# Create the $name variable here\n",
    "\n",
    "\n",
    "# Execute the code to see a greeting\n",
    "Write-Host \"Hello, $name!\""
   ]
  },
  {
   "cell_type": "markdown",
   "metadata": {},
   "source": [
    "## PowerShell is Not Strongly Typed\n",
    "One fundamental difference between PowerShell and many other programming languages (like C# or Java) is that PowerShell is not strongly typed. This means that PowerShell automatically determines the type of a variable based on the assigned value, and it allows variables to change types dynamically.\n",
    "\n",
    "### Implicit vs. Explicit Typing\n",
    "By default, PowerShell does not enforce a specific type when assigning values to a variable (**implicit**):\n",
    "\n",
    "```powershell\n",
    "$value = 10      # Integer\n",
    "$value = \"Text\"  # Now it's a String\n",
    "```\n",
    "\n",
    "However, you can enforce a specific type using type casting (**explicit**):\n",
    "```powershell\n",
    "[int]$count       = 42\n",
    "[string]$username = \"Admin\"\n",
    "[bool]$isEnabled  = $true\n",
    "```\n",
    "\n",
    "When you've assigned a specific type to a variable, attempts to modify the type by assigning another value should fail.\n",
    "Running the code below should result in a \"cannot convert value\" error."
   ]
  },
  {
   "cell_type": "code",
   "execution_count": 3,
   "metadata": {},
   "outputs": [
    {
     "name": "stdout",
     "output_type": "stream",
     "text": [
      "Cannot convert value \"forty-two\" to type \"System.Int32\". Error: \"Input string was not in a correct format.\"\n",
      "At line:3 char:1\n",
      "+ $count = \"forty-two\"\n",
      "+ ~~~~~~~~~~~~~~~~~~~~\n",
      "    + CategoryInfo          : MetadataError: (:) [], ArgumentTransformationMetadataException\n",
      "    + FullyQualifiedErrorId : RuntimeException\n",
      " \n"
     ]
    }
   ],
   "source": [
    "[int]$count = 42\n",
    "$count = \"forty-two\""
   ]
  },
  {
   "cell_type": "markdown",
   "metadata": {},
   "source": [
    "### Why Does This Matter?\n",
    "Since PowerShell allows type changes dynamically, unexpected behavior can occur.\n",
    "For example, 5 is a string but 10 is an integer. What will happen when you try to add them together?\n",
    "Make a guess what the output will be, then run the code below to find out."
   ]
  },
  {
   "cell_type": "code",
   "execution_count": 8,
   "metadata": {},
   "outputs": [
    {
     "name": "stdout",
     "output_type": "stream",
     "text": [
      "510\n"
     ]
    }
   ],
   "source": [
    "# Adding a string and integer together\n",
    "$sum = \"5\" + 10\n",
    "$sum"
   ]
  },
  {
   "cell_type": "markdown",
   "metadata": {},
   "source": [
    "PowerShell concatenates the string \"5\" with 10 instead of performing addition. PowerShell performs casting to change 10 into a string.\n",
    "\n",
    "You can verify a variable's data type using the ```.GetType()``` method. Run the code below to create variables, then verify their data type."
   ]
  },
  {
   "cell_type": "code",
   "execution_count": 9,
   "metadata": {},
   "outputs": [
    {
     "name": "stdout",
     "output_type": "stream",
     "text": [
      "\n",
      "IsPublic IsSerial Name                                     BaseType                                                    \n",
      "-------- -------- ----                                     --------                                                    \n",
      "True     True     Int32                                    System.ValueType                                            \n",
      "True     True     String                                   System.Object                                               \n",
      "True     True     Boolean                                  System.ValueType                                            \n",
      "\n",
      "\n"
     ]
    }
   ],
   "source": [
    "[int]$count = 42\n",
    "$count.GetType()\n",
    "\n",
    "[string]$username = \"Admin\"\n",
    "$username.GetType()\n",
    "\n",
    "[bool]$isEnabled = $true\n",
    "$isEnabled.GetType()"
   ]
  },
  {
   "cell_type": "markdown",
   "metadata": {},
   "source": [
    "## Variable Types\n",
    "\n",
    "- **User-Created**: Created and maintained by the user. Variables you create in the command line only exist while the PowerShell window is open and are deleted when you close the window. You can create a persistent variable by adding it to your PowerShell profile or work with script variables at the global, script, or local scope (more on this in [Section 2. Variable Scope](./2.Variable_Scope.md)).\n",
    "- **Automatic**: Variables created and maintained by PowerShell automatically. Users cannot change these variable values. Examples include ```$PSHOME```, ```$?```, ```$_```, ```$PROFILE```, and ```$PSEdition```.\n",
    "  - **Continue Reading**: [about_Automatic_Variables](https://learn.microsoft.com/powershell/module/microsoft.powershell.core/about/about_automatic_variables)\n",
    "- **Preference**: Variables that store user preferences for PowerShell. PowerShell creates these variables and populates them with default values. Users can later change these values as needed. Examples include ```$MaximumHistoryCount``` and ```$ErrorActionPreference```.\n",
    "- **Environment**: Variables that store information about the operating system and other programs. Environment variables are prefixed with ```$env:```. Examples include ```$env:PSModulePath``` and ```$env:OS```. You can set your own environment variables using this syntax:\n",
    "    ```powershell\n",
    "    $Env:<variable-name> = \"<new-value>\"\n",
    "    ```\n",
    "  - **Note**: Environment variable names on macOS and Linux are case-sensitive. For example, ```$env:Path``` and ```$env:PATH``` are different environment variables on non-Windows platforms.\n",
    "  - **Continue Reading**: [about_Environment_Variables](https://learn.microsoft.com/powershell/module/microsoft.powershell.core/about/about_environment_variables)"
   ]
  },
  {
   "cell_type": "markdown",
   "metadata": {},
   "source": [
    "## Variable Scope\n",
    "\n",
    "Scope determines where a variable is accessible within a PowerShell session, script, or function. Understanding scope is crucial for writing modular and predictable scripts.\n",
    "\n",
    "### Types of Variable Scope\n",
    "- Global Scope\n",
    "  - A variable declared in the global scope is accessible anywhere within the PowerShell session.\n",
    "  - Example: ```$global:Username = \"AdminUser\"```\n",
    "- Script Scope\n",
    "  - A script-scoped variable is accessible only within the script where it was declared.\n",
    "  - Example: ```$script:MyVar = \"Available only in this script\"```\n",
    "- Local Scope\n",
    "  - Variables declared inside functions exist only inside that function unless explicitly defined otherwise.\n",
    "  - In the example below, ```$localVar``` only exists in the ```Test-Scope``` function declaration code block (```{}```).\n",
    "  - Attempts to access the variable outside the function results in an error.\n",
    "    \n",
    "    ```powershell\n",
    "    function Test-Scope {\n",
    "        $localVar = \"Only inside this function\"\n",
    "        Write-Output $localVar\n",
    "    }\n",
    "    Test-Scope  # Outputs: Only inside this function\n",
    "    Write-Output $localVar  # Error! Variable not found outside function\n",
    "    ```\n",
    "\n",
    "- Private Scope\n",
    "  - A private variable cannot be accessed outside its defining scope, even if another scope would normally inherit it.\n",
    "  - Technically, private isn't a scope. It's an option that changes the accessibility of an item outside of the scope in which it's defined.\n",
    "\n",
    "If you don't define a variable with a scope prefix in PowerShell, it is assigned to the current scope by default.\n",
    "- If you're working inside a script or function, the variable is scoped to that script or function unless explicitly assigned to a broader scope.\n",
    "- If you're working in the interactive session (e.g., inside a PowerShell console or terminal), the variable is scoped to the global scope, meaning it remains available until the session ends.\n",
    "\n",
    "💡 You will rarely need to define a variable scope when writing scripts or functions, but being aware of different scopes is useful knowledge."
   ]
  }
 ],
 "metadata": {
  "kernelspec": {
   "display_name": "PowerShell",
   "language": "powershell",
   "name": "powershell"
  },
  "language_info": {
   "codemirror_mode": "shell",
   "file_extension": ".ps1",
   "mimetype": "text/x-sh",
   "name": "powershell"
  }
 },
 "nbformat": 4,
 "nbformat_minor": 2
}
