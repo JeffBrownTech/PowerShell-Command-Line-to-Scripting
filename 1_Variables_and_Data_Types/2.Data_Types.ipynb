{
 "cells": [
  {
   "cell_type": "markdown",
   "metadata": {},
   "source": [
    "# Data Types and Methods\n",
    "This section covers common data types used in PowerShell and introduces the concepts of methods.\n",
    "\n",
    "## Data Types\n",
    "\n",
    "### Strings\n",
    "Text values are stored as strings. Strings can be enclosed in single (') or double (\") quotes:\n",
    "- 'Single quotes' – Literal value, no variable expansion\n",
    "- \"Double quotes\" – Supports variable expansion, meaning PowerShell displays the string's value\n",
    "\n",
    "Variable expansion means PowerShell replaces the variable reference in the string with the value.\n",
    "\n",
    "Run the code below for an example on the difference between using single and double quotes. Note how PowerShell replaces the variable name with the value in the second ```Write-Output``` statement."
   ]
  },
  {
   "cell_type": "code",
   "execution_count": 4,
   "metadata": {},
   "outputs": [
    {
     "name": "stdout",
     "output_type": "stream",
     "text": [
      "Single Quotes: Hello, $name!\n",
      "Double Quotes: Hello, Bob!\n"
     ]
    }
   ],
   "source": [
    "$name = \"Bob\"\n",
    "Write-Output 'Single Quotes: Hello, $name!'\n",
    "Write-Output \"Double Quotes: Hello, $name!\""
   ]
  },
  {
   "cell_type": "markdown",
   "metadata": {},
   "source": [
    "When working with variables inside of strings, sometimes you need to perform an action or calculation. This is accomplished through subexpression expansion.\n",
    "\n",
    "Subexpression expansion allows you to evaluate an expression within a string and return its result. It is denoted by ```$()``` and is typically used inside double-quoted (```\" \"```) strings or in script blocks where an inline evaluation is required. You will see examples of this syntax in the next section."
   ]
  },
  {
   "cell_type": "markdown",
   "metadata": {},
   "source": [
    "### Numbers\n",
    "PowerShell supports various number types, including whole numbers and decimals.\n",
    "\n",
    "- **Integers**: 32-bit whole numbers in the range -2147483648 to +2147483647, inclusive.\n",
    "- **Long**: 64-bit whole numbers in the range -9223372036854775808 to +9223372036854775807, inclusive.\n",
    "- **Float**: Real number with 32-bit IEEE single-precision representation.\n",
    "- **Double**: Real number with 64-bit IEEE single-precision representation.\n",
    "- **Decimal**: Decimal number with 128-bit representation value range -79228162514264337593543950335 to 79228162514264337593543950335.\n",
    "\n",
    "When declaring variable with whole or fractional numbers, PowerShell defaults these types to ```integer``` and ```double```, respectively.\n",
    "\n",
    "Run the code to see the default types assigned to the number variable declarations. Note the use of subexpression expansion for displaying the results of ```GetType()```."
   ]
  },
  {
   "cell_type": "code",
   "execution_count": 1,
   "metadata": {},
   "outputs": [
    {
     "name": "stdout",
     "output_type": "stream",
     "text": [
      "389 data type: int\n",
      "134.2938 data type: double\n"
     ]
    }
   ],
   "source": [
    "$number1 = 389\n",
    "$number2 = 134.2938\n",
    "\n",
    "Write-Output \"$number1 data type: $($number1.GetType())\"\n",
    "Write-Output \"$number2 data type: $($number2.GetType())\""
   ]
  },
  {
   "cell_type": "markdown",
   "metadata": {},
   "source": [
    "### Boolean\n",
    "Boolean values (or bool) have two values: ```True``` and ```False```. Boolean values are useful for testing conditions inside of scripts. The variables ```$true``` and ```$false``` are automatic variables."
   ]
  },
  {
   "cell_type": "markdown",
   "metadata": {},
   "source": [
    "### Hash Tables\n",
    "Hash tables store structured data as key:value pairs enclosed in ```@{}```.\n",
    "\n",
    "For example, the following hash table stores information about a student record.\n",
    "\n",
    "```powershell\n",
    "$student = @{\n",
    "    Name  = \"Alice\"\n",
    "    Year  = \"Freshman\"\n",
    "    Major = \"Computer Science\"\n",
    "    Dorm  = \"Fassler Hall\"\n",
    "}\n",
    "```\n",
    "\n",
    "Fill in your own student information below, then run the code to see PowerShell display the hash table."
   ]
  },
  {
   "cell_type": "code",
   "execution_count": null,
   "metadata": {},
   "outputs": [
    {
     "name": "stdout",
     "output_type": "stream",
     "text": [
      "\n",
      "Name                           Value                                                                                   \n",
      "----                           -----                                                                                   \n",
      "Dorm                           Fassler Hall                                                                            \n",
      "Name                           Alice                                                                                   \n",
      "Year                           Freshman                                                                                \n",
      "Major                          Computer Science                                                                        \n",
      "\n",
      "\n"
     ]
    }
   ],
   "source": [
    "$student = @{\n",
    "    Name  = \"\"\n",
    "    Year  = \"\"\n",
    "    Major = \"\"\n",
    "    Dorm  = \"\"\n",
    "}\n",
    "\n",
    "$student"
   ]
  },
  {
   "cell_type": "markdown",
   "metadata": {},
   "source": [
    "You can access individual hash table values by specifying the key name in bracket ```[]```.\n",
    "\n",
    "Run the code below to verify outputing specific values based on their key names."
   ]
  },
  {
   "cell_type": "code",
   "execution_count": 13,
   "metadata": {},
   "outputs": [
    {
     "name": "stdout",
     "output_type": "stream",
     "text": [
      "Alice\n",
      "Computer Science\n"
     ]
    }
   ],
   "source": [
    "$student = @{\n",
    "    Name  = \"Alice\"\n",
    "    Year  = \"Freshman\"\n",
    "    Major = \"Computer Science\"\n",
    "    Dorm  = \"Fassler Hall\"\n",
    "}\n",
    "\n",
    "$student[\"Name\"]   # Should output Alice\n",
    "$student[\"Major\"]  # Should output Computer Science"
   ]
  },
  {
   "cell_type": "markdown",
   "metadata": {},
   "source": [
    "### Arrays\n",
    "Arrays store multiple values. The values can be strings, numbers, hash tables, or other objects. Arrays are useful when working with data sets such as list of users, servers, or files that you want to perform operations against.\n",
    "\n",
    "Use ```@()``` to define an array. When creating an array, you can populate its contents or create an empty array.\n",
    "\n",
    "```powershell\n",
    "$fruits = @() # Empty array\n",
    "$fruits = @(\"Apple\", \"Banana\", \"Cherry\", \"Figs\") # Populated array\n",
    "```\n",
    "\n",
    "Fill out the array below of your favorite foods for PowerShell to display."
   ]
  },
  {
   "cell_type": "code",
   "execution_count": 3,
   "metadata": {},
   "outputs": [
    {
     "name": "stdout",
     "output_type": "stream",
     "text": []
    }
   ],
   "source": [
    "$favoriteFoods = @()\n",
    "$favoriteFoods"
   ]
  },
  {
   "cell_type": "markdown",
   "metadata": {},
   "source": [
    "The items in the array do not have to be the same data type. This example stores strings, numbers, and boolean values.\n",
    "\n",
    "```powershell\n",
    "$randomThings = @(\"baseball\", 300, $true)\n",
    "```\n",
    "\n",
    "You can access individual items in the array using an **index**. The first array item has an index of ```0``` with each following item increasing by 1. Indexes are enclosed in square brackets ```[]```.\n",
    "\n",
    "Here's the ```$fruits``` array with their corresponding index values.\n",
    "\n",
    "| Index |   0   |    1   |    2   |   3  |\n",
    "|-------|-------|--------|--------|------|\n",
    "| Fruit | Apple | Banana | Cherry | Figs |\n",
    "\n",
    "For example, to access ```Cherry``` in the fruit array, use index ```2```.\n",
    "\n",
    "```powershell\n",
    "$fruits[2]\n",
    "```\n",
    "\n",
    "Update the code below to output your favorite sport from the ```$sports``` array (or pick one if you are not a sports fan!)."
   ]
  },
  {
   "cell_type": "code",
   "execution_count": null,
   "metadata": {},
   "outputs": [
    {
     "name": "stdout",
     "output_type": "stream",
     "text": [
      "gymnastics\n"
     ]
    }
   ],
   "source": [
    "$sports = @(\"basketball\", \"baseball\", \"hockey\", \"gymnastics\", \"football\", \"soccer\", \"badminton\", \"tennis\", \"other\")\n",
    "$sports[]  # Update this index"
   ]
  },
  {
   "cell_type": "markdown",
   "metadata": {},
   "source": [
    "Fun fact: you can use *negative* indexes to move backwards in the array. For example, ```[-1]``` will output the last item in the array. Run the PowerShell code below to see this in action."
   ]
  },
  {
   "cell_type": "code",
   "execution_count": 9,
   "metadata": {},
   "outputs": [
    {
     "name": "stdout",
     "output_type": "stream",
     "text": [
      "[-1] should output Figs: Figs\n",
      "[-2] should output Cherry: Cherry\n"
     ]
    }
   ],
   "source": [
    "$fruits = @(\"Apple\", \"Banana\", \"Cherry\", \"Figs\")\n",
    "Write-Output \"[-1] should output Figs: $($fruits[-1])\"\n",
    "Write-Output \"[-2] should output Cherry: $($fruits[-2])\""
   ]
  },
  {
   "cell_type": "markdown",
   "metadata": {},
   "source": [
    "### Add items to array\n",
    "In general, arrays are of a fixed size, but you can items to an array using the ```+=``` operator. This action adds the items by building a new array.\n",
    "\n",
    "Examine the code below and run it to add an item to the array."
   ]
  },
  {
   "cell_type": "code",
   "execution_count": 1,
   "metadata": {},
   "outputs": [
    {
     "name": "stdout",
     "output_type": "stream",
     "text": [
      "Current array items: Apple Banana Cherry Figs\n",
      "New array: Apple Banana Cherry Figs Eggplant\n"
     ]
    }
   ],
   "source": [
    "$fruits = @(\"Apple\", \"Banana\", \"Cherry\", \"Figs\")\n",
    "\"Current array items: $fruits\"\n",
    "\n",
    "$fruits += \"Eggplant\"\n",
    "\"New array: $fruits\""
   ]
  },
  {
   "cell_type": "markdown",
   "metadata": {},
   "source": [
    "### Remove items from array\n",
    "Removing items from a fixed array is a bit trickier. You use the ```-ne``` operator along with the item to remove (operators are discussed in more detail in the next section). This action keeps all the elements not equal to the one you want to remove.\n",
    "\n",
    "Examine the code below and run it to see an item removed from the array."
   ]
  },
  {
   "cell_type": "code",
   "execution_count": 3,
   "metadata": {},
   "outputs": [
    {
     "name": "stdout",
     "output_type": "stream",
     "text": [
      "Current array items: Apple Banana Cherry Figs\n",
      "New array: Apple Cherry Figs\n"
     ]
    }
   ],
   "source": [
    "$fruits = @(\"Apple\", \"Banana\", \"Cherry\", \"Figs\")\n",
    "\"Current array items: $fruits\"\n",
    "\n",
    "$fruits = $fruits -ne \"Banana\"\n",
    "\"New array: $fruits\""
   ]
  },
  {
   "cell_type": "markdown",
   "metadata": {},
   "source": [
    "**Note**: Using these actions is fine on small arrays, but there can be a performance issues if working with very large arrays. Ideally you will want to work with dynamic arrays, which allow easier adding and removing items. For now, the methods above will work fine in 99% of scenarios.\n",
    "\n",
    "For more information on dynamic arrays, check out this article:\n",
    "\n",
    "[Mastering PowerShell Dynamic Arrays](https://jeffbrown.tech/powershell-dynamic-arrays/)"
   ]
  },
  {
   "cell_type": "markdown",
   "metadata": {},
   "source": [
    "## Methods and Properties\n",
    "In PowerShell, a method is a function that is associated with an object and is used to perform actions on that object. Methods are part of the object-oriented nature of PowerShell, which is built on the .NET framework.\n",
    "\n",
    "**Key Characteristics of Methods**\n",
    "- Belong to an object (such as strings, numbers, arrays).\n",
    "- Perform actions on the object (e.g., modifying data, retrieving information).\n",
    "- May accept parameters to customize their behavior.\n",
    "- Are accessed using dot notation (```.```).\n",
    "\n",
    "A property is an attribute of an object that holds data about that object. Properties store information, while methods perform actions.\n",
    "\n",
    "**Key Characteristics of Properties**\n",
    "- Belong to an object (just like methods).\n",
    "- Hold values that describe the object.\n",
    "- Are accessed using dot notation (.).\n",
    "- Cannot accept parameters (unlike methods).\n",
    "\n",
    "To view methods and properties associated with a variable and its type, use the ```Get-Member``` cmdlet.\n",
    "\n",
    "```powershell\n",
    "Get-Member -InputObject $favoriteFoods\n",
    "$name | Get-Member\n",
    "```\n",
    "\n",
    "**Note**: ```gm``` is an alias for ```Get-Member```, and you may see this in other documentation or examples.\n",
    "\n",
    "Let's review some common methods and properties for different data types."
   ]
  },
  {
   "cell_type": "markdown",
   "metadata": {},
   "source": [
    "### Strings\n",
    "\n",
    "Run the following PowerShell code to see string methods and properties in action."
   ]
  },
  {
   "cell_type": "code",
   "execution_count": 21,
   "metadata": {},
   "outputs": [
    {
     "name": "stdout",
     "output_type": "stream",
     "text": [
      "16\n",
      "hello powershell\n",
      "HELLO POWERSHELL\n",
      "Hello World\n",
      "   PowerShell is awesome!---\n",
      "PowerShell is awesome!---\n",
      "   PowerShell is awesome!\n",
      "The\n",
      "quick\n",
      "brown\n",
      "fox\n",
      "jumps\n",
      "over\n",
      "the\n",
      "lazy\n",
      "dog\n"
     ]
    }
   ],
   "source": [
    "$greeting = \"Hello PowerShell\"\n",
    "$greeting.Length                            # Outputs total number of characters in string\n",
    "$greeting.ToLower()                         # Converts to lowercase\n",
    "$greeting.ToUpper()                         # Converts to uppercase\n",
    "$greeting.Replace(\"PowerShell\", \"World\")    # Replaces text\n",
    "\n",
    "$myString = \"   PowerShell is awesome!---\"\n",
    "$mystring                                   # Display text without modification\n",
    "$myString.Trim()                            # Removes whitespace at beginning and end of string\n",
    "$myString.TrimEnd(\"-\")                      # Removes matching characters from end of string\n",
    "\n",
    "# User .Split() to turn a string into an array of strings based on a delimiter, in this case, a space\n",
    "$pangram = \"The quick brown fox jumps over the lazy dog\"\n",
    "$words = $pangram.Split(\" \")\n",
    "$words"
   ]
  },
  {
   "cell_type": "markdown",
   "metadata": {},
   "source": [
    "### Arrays\n",
    "Run the following PowerShell code to see array methods in action."
   ]
  },
  {
   "cell_type": "code",
   "execution_count": 10,
   "metadata": {},
   "outputs": [
    {
     "name": "stdout",
     "output_type": "stream",
     "text": [
      "4\n",
      "4\n",
      "True\n",
      "False\n"
     ]
    }
   ],
   "source": [
    "$foods = @(\"hamburger\", \"pizza\", \"taco\", \"hot dog\")\n",
    "$foods.Count                  # Outputs: 4 (number of elements)\n",
    "$foods.Length                 # Outputs: 4 (number of elements)\n",
    "$foods.Contains(\"taco\")       # Outputs: True\n",
    "$foods.Contains(\"ice cream\")  # Outputs: False\n",
    "$foods.Clear()                # Removes all elements from the array"
   ]
  },
  {
   "cell_type": "markdown",
   "metadata": {},
   "source": [
    "Some array methods depend on the data type in the array. For example, ```Contains()``` is a string method and does not work on an array with integers or other number types."
   ]
  },
  {
   "cell_type": "markdown",
   "metadata": {},
   "source": [
    "### Hash Tables\n",
    "Run the following PowerShell code to see hash table methods and properties in action."
   ]
  },
  {
   "cell_type": "code",
   "execution_count": null,
   "metadata": {},
   "outputs": [
    {
     "name": "stdout",
     "output_type": "stream",
     "text": [
      "4\n",
      "True\n",
      "False\n",
      "True\n",
      "False\n",
      "-----Keys-----\n",
      "Dorm\n",
      "Name\n",
      "Year\n",
      "Major\n",
      "----Values----\n",
      "Fassler Hall\n",
      "Alice\n",
      "Freshman\n",
      "Computer Science\n"
     ]
    }
   ],
   "source": [
    "$student = @{\n",
    "    Name  = \"Alice\"\n",
    "    Year  = \"Freshman\"\n",
    "    Major = \"Computer Science\"\n",
    "    Dorm  = \"Fassler Hall\"\n",
    "}\n",
    "\n",
    "# Output number of key:value pairs in hash table (4)\n",
    "$student.Count\n",
    "\n",
    "# Verify keys existing in hash table\n",
    "$student.ContainsKey(\"Name\")          # Outputs: True\n",
    "$student.ContainsKey(\"Roomate\")       # Outputs: False\n",
    "\n",
    "# Verify values existing in hash table\n",
    "$student.ContainsValue(\"Alice\")       # Outputs: True\n",
    "$student.ContainsValue(\"Cathy\")       # Outputs: True\n",
    "\n",
    "# View keys in hash table\n",
    "\"-----Keys-----\"\n",
    "$student.Keys\n",
    "\n",
    "# View values in hash table\n",
    "\"----Values----\"\n",
    "$student.Values"
   ]
  },
  {
   "cell_type": "markdown",
   "metadata": {},
   "source": [
    "### Instance vs. Static Methods\n",
    "The previous method examples using dot notation (```.Method()```) are called **instance methods**. However, you can use methods belonging to a .NET class directly instead of methods belonging to a PowerShell object. These methods are called **static methods**.\n",
    "\n",
    "For example, number types do not have many useful instance types. However, you can use static methods found in the .NET **Math** class. You call these methods using the format ```[ClassName]::Method()```.\n",
    "\n",
    "Examine the code below. You call the ```[Math]``` class and the square root (```Sqrt```) method to find the square root of a number. Run the code below to view the answer."
   ]
  },
  {
   "cell_type": "code",
   "execution_count": 15,
   "metadata": {},
   "outputs": [
    {
     "name": "stdout",
     "output_type": "stream",
     "text": [
      "The square root of 25 is 5.\n"
     ]
    }
   ],
   "source": [
    "$number = 25\n",
    "$numberSqrt = [Math]::Sqrt($number)\n",
    "\"The square root of $number is $numberSqrt.\""
   ]
  },
  {
   "cell_type": "markdown",
   "metadata": {},
   "source": [
    "## Recap\n",
    "- "
   ]
  }
 ],
 "metadata": {
  "kernelspec": {
   "display_name": "PowerShell",
   "language": "powershell",
   "name": "powershell"
  },
  "language_info": {
   "codemirror_mode": "shell",
   "file_extension": ".ps1",
   "mimetype": "text/x-sh",
   "name": "powershell"
  }
 },
 "nbformat": 4,
 "nbformat_minor": 2
}
