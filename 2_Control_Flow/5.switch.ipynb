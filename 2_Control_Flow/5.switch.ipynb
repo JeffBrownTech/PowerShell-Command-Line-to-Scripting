{
 "cells": [
  {
   "cell_type": "markdown",
   "metadata": {},
   "source": [
    "# ```switch``` Statements\n",
    "Instead of writing multiple ```if-elseif-else``` blocks, ```switch``` statements provide a cleaner way to handle multiple conditions.\n",
    "\n",
    "The ```switch``` statement checks a condition or expression once, then compares it against possible values. When a match is found, the corresponding code block is executed.\n",
    "\n",
    "The syntax for a ```switch``` statement includes:\n",
    "  - ```switch``` keyword\n",
    "  - An expression to evaluate\n",
    "  - One or more possible values to match\n",
    "  - An optional ```default``` that executes when no other value matches\n",
    "\n",
    "Review the syntax below.\n",
    "\n",
    "```powershell\n",
    "switch (<expression>) {\n",
    "    <value1> { # Code block to execute if expression matches value1 }\n",
    "    <value2> { # Code block to execute if expression matches value2 }\n",
    "    default { # Code block to execute if no other value matches (optional) }\n",
    "}\n",
    "```"
   ]
  },
  {
   "cell_type": "markdown",
   "metadata": {},
   "source": [
    "Review the example ```switch``` statement below. The ```switch``` statement checks the value of ```$color```. When it finds a match, the matching code block is displayed.\n",
    "\n",
    "Run the code below to see the initial \"Stop!\" message, then modify ```$color``` to test the other conditions."
   ]
  },
  {
   "cell_type": "code",
   "execution_count": 8,
   "metadata": {},
   "outputs": [
    {
     "name": "stdout",
     "output_type": "stream",
     "text": [
      "Stop!\n"
     ]
    }
   ],
   "source": [
    "$color = \"red\"\n",
    "\n",
    "switch ($color) {\n",
    "    \"red\" { \"Stop!\" }\n",
    "    \"yellow\" { \"Caution!\" }\n",
    "    \"green\" { \"Go!\" }\n",
    "    default { \"Unknown color!\" }\n",
    "}"
   ]
  },
  {
   "cell_type": "markdown",
   "metadata": {},
   "source": [
    "You can use the automatic variable ```$_``` to make comparisons in the ```switch``` expressions. In the example below, ```$_``` and ```$number``` are the same value.\n",
    "\n",
    "Run the code below to view which expression it matches. Change the value of ```$number``` to test other conditions."
   ]
  },
  {
   "cell_type": "code",
   "execution_count": 9,
   "metadata": {},
   "outputs": [
    {
     "name": "stdout",
     "output_type": "stream",
     "text": [
      "10 is greater than 0\n"
     ]
    }
   ],
   "source": [
    "$number = 10\n",
    "\n",
    "switch ($number)\n",
    "{\n",
    "    {$_ -gt 0} {\"$_ is greater than 0\"}\n",
    "    {$_ -le 0} {\"$_ is less than 0\"}\n",
    "    {$_ -eq 0} {\"$_ is zero\"}\n",
    "}"
   ]
  },
  {
   "cell_type": "markdown",
   "metadata": {},
   "source": [
    "### Using ```break``` to stop execution\n",
    "The ```switch``` condition can match multiple expressions, meaning more than one code block can be executed.\n",
    "\n",
    "Examine the code below. The ```$number``` variable matches multiple expressions and prints the corresponding statements."
   ]
  },
  {
   "cell_type": "code",
   "execution_count": null,
   "metadata": {},
   "outputs": [
    {
     "name": "stdout",
     "output_type": "stream",
     "text": [
      "Greater than 5\n",
      "Greater than 2\n"
     ]
    }
   ],
   "source": [
    "$number = 10\n",
    "\n",
    "switch ($number) {\n",
    "    {$_ -gt 10} { \"Greater than 10\" }\n",
    "    {$_ -gt 5} { \"Greater than 5\" }\n",
    "    {$_ -gt 2} { \"Greater than 2\" }\n",
    "}"
   ]
  },
  {
   "cell_type": "markdown",
   "metadata": {},
   "source": [
    "If you want to stop execution after matching a single expression, include the ```break``` statement at the end of the code block.\n",
    "\n",
    "Review the code below with the updated ```break``` statement, then run the code to see only the first statement is printed."
   ]
  },
  {
   "cell_type": "code",
   "execution_count": 11,
   "metadata": {},
   "outputs": [
    {
     "name": "stdout",
     "output_type": "stream",
     "text": [
      "Greater than 5\n"
     ]
    }
   ],
   "source": [
    "$number = 10\n",
    "\n",
    "switch ($number) {\n",
    "    {$_ -gt 10} { \"Greater than 10\"; break }\n",
    "    {$_ -gt 5} { \"Greater than 5\"; break }\n",
    "    {$_ -gt 2} { \"Greater than 2\"; break }\n",
    "}"
   ]
  },
  {
   "cell_type": "markdown",
   "metadata": {},
   "source": [
    "## Using wildcards\n",
    "You can match patterns with wildcards using the ```-Wildcard``` keyword.\n",
    "\n",
    "Review the example below to check the file extension and print a statement. Modify ```$filename``` to test the other conditions."
   ]
  },
  {
   "cell_type": "code",
   "execution_count": 13,
   "metadata": {},
   "outputs": [
    {
     "name": "stdout",
     "output_type": "stream",
     "text": [
      "This is a text file.\n"
     ]
    }
   ],
   "source": [
    "$filename = \"report.txt\"\n",
    "\n",
    "switch -Wildcard ($filename) {\n",
    "    \"*.txt\" { Write-Output \"This is a text file.\" }\n",
    "    \"*.csv\" { Write-Output \"This is a CSV file.\" }\n",
    "    default { Write-Output \"Unknown file type.\" }\n",
    "}"
   ]
  },
  {
   "cell_type": "markdown",
   "metadata": {},
   "source": [
    "## Using arrays\n",
    "If the input is an array, ```switch``` automatically loops through each element.\n",
    "\n",
    "Review and run the code below. Note which expressions print as it moves through each array item."
   ]
  },
  {
   "cell_type": "code",
   "execution_count": 14,
   "metadata": {},
   "outputs": [
    {
     "name": "stdout",
     "output_type": "stream",
     "text": [
      "I love apples!\n",
      "Bananas are great!\n",
      "Some other fruit!\n"
     ]
    }
   ],
   "source": [
    "$fruits = @(\"Apple\", \"Banana\", \"Cherry\")\n",
    "\n",
    "switch ($fruits) {\n",
    "    \"Apple\" { Write-Output \"I love apples!\" }\n",
    "    \"Banana\" { Write-Output \"Bananas are great!\" }\n",
    "    default { Write-Output \"Some other fruit!\" }\n",
    "}"
   ]
  },
  {
   "cell_type": "markdown",
   "metadata": {},
   "source": [
    "## Fun Tip - Variable Assignment\n",
    "You can set a variable value based on the result of a ```switch```. For example, you want to set a number based on a variable value being evaluated in the ```switch``` statement. You can set the variable to the result of the ```switch``` statement.\n",
    "\n",
    "Review the example below and run the code to see the output. The variable ```$number``` is set based on the value of ```$color```."
   ]
  },
  {
   "cell_type": "code",
   "execution_count": 17,
   "metadata": {},
   "outputs": [
    {
     "name": "stdout",
     "output_type": "stream",
     "text": [
      "The value for number is: 5\n"
     ]
    }
   ],
   "source": [
    "$color = \"blue\"\n",
    "\n",
    "$number = switch ($color) {\n",
    "    \"blue\" { 5 }\n",
    "    \"yellow\" { 10 }\n",
    "    \"red\" { 15 }\n",
    "    \"purple\" { 20 }\n",
    "    default { 1 }\n",
    "}\n",
    "\n",
    "\"The value for number is: $number\""
   ]
  },
  {
   "cell_type": "markdown",
   "metadata": {},
   "source": [
    "## Exercise - Number Categorize\n",
    "Create a ```switch``` statement to categorize an array of numbers as small (1 - 5), medium (6 - 10), and large (11+). Print the number and its category. If a number does not fall in the range, print that the number is not within a category.\n",
    "\n",
    "The output should look like this:\n",
    "```\n",
    "Number: 2 - Category: Small\n",
    "Number: 7 - Category: Medium\n",
    "Number: 12 - Category: Large\n",
    "Number: 5 - Category: Small\n",
    "Number: 9 - Category: Medium\n",
    "Number: 0 is not within a category\n",
    "Number: 22 - Category: Large\n",
    "```\n",
    "\n",
    "**Hint**: The expressions to evaluate support compound statements using ```-and```.\n",
    "\n",
    "Finish the code below and test your solution.\n",
    "\n",
    "When ready, view a suggested solution: [number_categorizer.ps1](./solutions/number_categorizer.ps1)"
   ]
  },
  {
   "cell_type": "code",
   "execution_count": null,
   "metadata": {},
   "outputs": [],
   "source": [
    "$numbers = @(2, 7, 12, 5, 9, 0, 22)\n",
    "\n",
    "switch ($numbers)\n",
    "{\n",
    "    # Your code here\n",
    "}"
   ]
  }
 ],
 "metadata": {
  "kernelspec": {
   "display_name": "PowerShell",
   "language": "powershell",
   "name": "powershell"
  },
  "language_info": {
   "codemirror_mode": "shell",
   "file_extension": ".ps1",
   "mimetype": "text/x-sh",
   "name": "powershell"
  }
 },
 "nbformat": 4,
 "nbformat_minor": 2
}
