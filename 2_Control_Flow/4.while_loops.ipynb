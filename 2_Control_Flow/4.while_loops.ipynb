{
 "cells": [
  {
   "cell_type": "markdown",
   "metadata": {},
   "source": [
    "# ```while``` Loops\n",
    "```while``` loops are useful to continue looping through a code block until a condition is met. There are two variations of ```while``` loops.\n",
    "\n",
    "## ```while``` loop\n",
    "The ```while``` loop continues running the code block as long as condition evaluates to ```true```. PowerShell evaluates the conditions prior to running the loop. This loop's syntax is below:\n",
    "\n",
    "```powershell\n",
    "while (<condition>)\n",
    "{\n",
    "    # Loop code goes here\n",
    "}\n",
    "```\n",
    "\n",
    "This version of ```while``` loop may never execute if the condition is not met. This example demonstrates a loop that never executes because the condition evaluates to false.\n",
    "\n",
    "```powershell\n",
    "$number = 10\n",
    "while ($number -lt 0)\n",
    "{\n",
    "    \"This code doesn't run\"\n",
    "}\n",
    "```\n",
    "\n",
    "A variable is often used to test a loop condition, much like a ```for``` loop. Be sure to modify this variable or you will end up in an infinite loop.\n",
    "\n",
    "Review the example below and run it to view the ```$counter``` variable increment with each loop until the condition evaluates to ```false```."
   ]
  },
  {
   "cell_type": "code",
   "execution_count": 3,
   "metadata": {},
   "outputs": [
    {
     "name": "stdout",
     "output_type": "stream",
     "text": [
      "Counting 1 to 5\n",
      "1\n",
      "2\n",
      "3\n",
      "4\n",
      "5\n"
     ]
    }
   ],
   "source": [
    "$counter = 1\n",
    "\"Counting 1 to 5\"\n",
    "while ($counter -le 5)\n",
    "{\n",
    "    $counter\n",
    "    $counter++  # Increment variable\n",
    "}"
   ]
  },
  {
   "cell_type": "markdown",
   "metadata": {},
   "source": [
    "## do-while loop\n",
    "A ```do-while``` loop is similar to the previous loop except it will execute the code block at least once before the loop condition is evaluated.\n",
    "\n",
    "Review the syntax example below. Note how the ```while``` statement and condition comes after the ```do {}``` portion.\n",
    "\n",
    "```powershell\n",
    "do\n",
    "{\n",
    "    # Loop code\n",
    "} while (<condition>)\n",
    "```\n",
    "\n",
    "Like ```while``` loops, you often use a counter variable to control the loop condition.\n",
    "\n",
    "Review the example below and run the code to see the output."
   ]
  },
  {
   "cell_type": "code",
   "execution_count": 4,
   "metadata": {},
   "outputs": [
    {
     "name": "stdout",
     "output_type": "stream",
     "text": [
      "Count: 1\n",
      "Count: 2\n",
      "Count: 3\n",
      "Count: 4\n",
      "Count: 5\n"
     ]
    }
   ],
   "source": [
    "$count = 1\n",
    "do {\n",
    "    Write-Output \"Count: $count\"\n",
    "    $count++\n",
    "} while ($count -le 5)"
   ]
  },
  {
   "cell_type": "markdown",
   "metadata": {},
   "source": [
    "```do-while``` loops are also good for gathering user input during execution. The loop will continue until the user inputs the correct response.\n",
    "\n",
    "**Note**: Jupyter notebooks does not allow interaction. If you want, copy the code to a regular PowerShell console and test yourself.\n",
    "\n",
    "```powershell\n",
    "do {\n",
    "    \"Do you want to exit? Enter 'y' to exit or any other key to continue\"\n",
    "    $response = (Read-Host).ToLower()\n",
    "} while ($response -ne 'y')\n",
    "\n",
    "\"Loop exited. Goodbye!\"\n",
    "```"
   ]
  },
  {
   "cell_type": "markdown",
   "metadata": {},
   "source": [
    "## Exercise - Countdown Timer\n",
    "Use a ```while``` loop to create a countdown timer from 10 to 0, printing each number in between. After the countdown timer is complete, print the message \"Countdown complete!\".\n",
    "\n",
    "The output should look similar to this:\n",
    "```\n",
    "5\n",
    "4\n",
    "3\n",
    "2\n",
    "1\n",
    "0\n",
    "Countdown complete!\n",
    "```\n",
    "\n",
    "**Hint**: Use ```Start-Sleep -Seconds 1``` to create a short pause each time the loop completes.\n",
    "\n",
    "Don't forget to update your control variable!\n",
    "\n",
    "Complete the code below and test your solution.\n",
    "When ready, view the suggested solution: [countdown_timer.ps1](./solutions/countdown_timer.ps1)"
   ]
  },
  {
   "cell_type": "code",
   "execution_count": null,
   "metadata": {},
   "outputs": [],
   "source": [
    "# Update condition and loop code block to create the countdown timer\n",
    "$start = 5\n",
    "\n",
    "while (<condition>)\n",
    "{\n",
    "    # Your code here\n",
    "}\n",
    "\n",
    "\"Countdown complete!\""
   ]
  },
  {
   "cell_type": "markdown",
   "metadata": {},
   "source": [
    "## Exercise - Sum Random Numbers\n",
    "Use a ```do-while``` loop to add random numbers between 1 and 10, stopping when the sum reaches or exceeds 30.\n",
    "\n",
    "In the loop iteration, display the random number being added and then the running total.\n",
    "\n",
    "Your output should look similar to this:\n",
    "```\n",
    "Adding 7, Total: 7\n",
    "Adding 5, Total: 12\n",
    "Adding 2, Total: 14\n",
    "Adding 9, Total: 23\n",
    "Adding 8, Total: 31\n",
    "Sum reached 30! Loop exited.\n",
    "```\n",
    "\n",
    "**Hint**: Use ```Get-Random -Minimum 1 -Maximum 10``` to generate the random numbers.\n",
    "\n",
    "Enter your solution below by completing the code.\n",
    "\n",
    "When ready, view the suggested solution: [sum_random_numbers.ps1](./solutions/sum_random_numbers.ps1)"
   ]
  },
  {
   "cell_type": "code",
   "execution_count": null,
   "metadata": {},
   "outputs": [],
   "source": [
    "# Update the do-while code block and condition to sum random numbers\n",
    "$sum = 0\n",
    "\n",
    "do {\n",
    "    # Your code here\n",
    "} until (<condition>)\n",
    "\n",
    "\"Sum reached 30! Loop exited.\""
   ]
  }
 ],
 "metadata": {
  "kernelspec": {
   "display_name": "PowerShell",
   "language": "powershell",
   "name": "powershell"
  },
  "language_info": {
   "codemirror_mode": "shell",
   "file_extension": ".ps1",
   "mimetype": "text/x-sh",
   "name": "powershell"
  }
 },
 "nbformat": 4,
 "nbformat_minor": 2
}
