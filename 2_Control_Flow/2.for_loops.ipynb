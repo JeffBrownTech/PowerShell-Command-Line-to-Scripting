{
 "cells": [
  {
   "cell_type": "markdown",
   "metadata": {},
   "source": [
    "# ```for``` loops\n",
    "The ```for``` loop is used when you know how many times you need to iterate (or loop) through a list or array is known beforehand.\n",
    "The ```for``` statement components are:\n",
    "- **initialization**: sets up a loop control variable (e.g., ```$i = 0```)\n",
    "- **condition**: defines when the loop should continue or stop running (e.g., ```$i -lt 10```)\n",
    "- **iteration**: defines how to update the control variable after each loop completion (e.g, ```$i++```)\n",
    "\n",
    "The basic syntax for ```for``` loops is:\n",
    "\n",
    "```powershell\n",
    "for (initialization; condition; iteration)\n",
    "{\n",
    "    # Code block to execute in each loop iteration\n",
    "}\n",
    "```\n",
    "\n",
    "Examine the code sample below.\n",
    "- The ```for``` loop defines a loop control variable ```$i``` with a starting value of ```1```.\n",
    "- The loop condition runs while ```$i``` is less than ```10```.\n",
    "- The loop adds 1 (```$i++```) each times the loop completes.\n",
    "- The loop code block outputs the current value of ```$i```.\n",
    "\n",
    "Run the code below to view the ```for``` loop output."
   ]
  },
  {
   "cell_type": "code",
   "execution_count": null,
   "metadata": {},
   "outputs": [],
   "source": [
    "for ($i = 1; $i -lt 10; $i++)\n",
    "{\n",
    "    \"Current value for `$i: $i\"\n",
    "}"
   ]
  },
  {
   "cell_type": "markdown",
   "metadata": {},
   "source": [
    "### Infinite loops\n",
    "Condition and iteration definitions make or break ```for``` loops. Incorrectly defining when a loop should continue running or failing to update the control variable can cause a loop to run indefinitely (**hint**: use ```CTRL + C``` to stop execution of an infinite loop).\n",
    "\n",
    "Review the ```for``` statements below for issues that cause infinite loops.\n",
    "\n",
    "This example showcases a condition that is always ```True``` as ```$i``` will always be greater than 0.\n",
    "\n",
    "```powershell\n",
    "for ($i = 1; $i -gt 0; $i++)\n",
    "{\n",
    "    \"Iteration: $i\"\n",
    "}\n",
    "```\n",
    "\n",
    "This second example has an incorrect iteration statement. ```$i``` should decrease (```$i--```) instead of increasing each loop iteration.\n",
    "```powershell\n",
    "for ($i = 10; $i -ge 0; $i++) {\n",
    "    \"Iteration: $i\"\n",
    "}\n",
    "\n",
    "```\n",
    "\n",
    "The next few examples skip defining portions of the ```for``` statement.\n",
    "\n",
    "```powershell\n",
    "# Missing the condition statement\n",
    "for ($i = 1; ; $i++) {\n",
    "    \"Iteration: $i\"\n",
    "}\n",
    "\n",
    "# Missing iteration statement\n",
    "for ($i = 1; $i -lt 10; ) {\n",
    "    \"Iteration: $i\"\n",
    "}\n",
    "```\n",
    "\n",
    "Can you spot what is wrong with this ```for``` statement? See the answer below the example.\n",
    "\n",
    "```powershell\n",
    "for ($i = 10; $i -lt 10; $i++)\n",
    "{\n",
    "    \"Iteration: $i\"\n",
    "}\n",
    "```\n",
    "\n",
    "There are two possible solutions:\n",
    "1. ```$i``` is initialized incorrectly and should be a value less than 10.\n",
    "2. The condition statement value should be increased from 10."
   ]
  },
  {
   "cell_type": "markdown",
   "metadata": {},
   "source": [
    "### Arrays\n",
    "Since arrays in PowerShell are zero-indexed, you can loop through them using an index-based approach in a ```for``` loop.\n",
    "\n",
    "Examine the code example below. The ```$fruits``` array has 4 items in it. You can use the ```Length``` property in the ```for``` loop condition statement. Use the control variable ```$i``` to output the array item based on the index.\n",
    "\n",
    "When ready, run the code to see the output."
   ]
  },
  {
   "cell_type": "code",
   "execution_count": null,
   "metadata": {},
   "outputs": [],
   "source": [
    "$fruits = @(\"Apple\", \"Banana\", \"Cherry\", \"Mango\")\n",
    "\n",
    "for ($i = 0; $i -lt $fruits.Length; $i++) {\n",
    "    Write-Output \"Fruit: $($fruits[$i])\"\n",
    "}"
   ]
  },
  {
   "cell_type": "markdown",
   "metadata": {},
   "source": [
    "You can also use a ```for``` loop to modify the array contents. Run the example below to modify the each item to uppercase."
   ]
  },
  {
   "cell_type": "code",
   "execution_count": null,
   "metadata": {},
   "outputs": [],
   "source": [
    "$fruits = @(\"apple\", \"banana\", \"cherry\")\n",
    "\n",
    "for ($i = 0; $i -lt $fruits.Length; $i++) {\n",
    "    $fruits[$i] = $fruits[$i].ToUpper()\n",
    "}\n",
    "\n",
    "$fruits"
   ]
  },
  {
   "cell_type": "markdown",
   "metadata": {},
   "source": [
    "### Strings\n",
    "Since strings are arrays of characters, you can loop through each letter in a string using a ```for``` loop. Again, use the ```Length``` string property and ```$i``` control variable as the index (this is nearly identical to the array example)."
   ]
  },
  {
   "cell_type": "code",
   "execution_count": null,
   "metadata": {},
   "outputs": [],
   "source": [
    "$text = \"PowerShell\"\n",
    "\n",
    "for ($i = 0; $i -lt $text.Length; $i++) {\n",
    "    Write-Output \"Character at index $i : $($text[$i])\"\n",
    "}"
   ]
  },
  {
   "cell_type": "markdown",
   "metadata": {},
   "source": [
    "## Exercise - Find Even and Odd Numbers\n",
    "Use the starter code below to finish the solution. Modify the ```for``` statement to output numbers 1 through 10 and output whether the number is even or odd.\n",
    "\n",
    "Expected Output:\n",
    "```\n",
    "1 is odd\n",
    "2 is even\n",
    "3 is odd\n",
    "4 is even\n",
    "5 is odd\n",
    "6 is even\n",
    "7 is odd\n",
    "8 is even\n",
    "9 is odd\n",
    "10 is even\n",
    "```\n",
    "\n",
    "When ready, view the suggested solution: [even_odd_numbers.ps1](./solutions/even_odd_numbers.ps1)"
   ]
  },
  {
   "cell_type": "code",
   "execution_count": null,
   "metadata": {},
   "outputs": [],
   "source": [
    "# Replace the bracketed <> information in the for statement to satisfy the conditions\n",
    "for ($i = <starting value>; $i <comparison operator> <condition>; <iterator>)\n",
    "{\n",
    "    if ($i % 2 -eq 0)\n",
    "    {\n",
    "        \"$i is even\"\n",
    "    }\n",
    "    else {\n",
    "        \"$i is odd\"\n",
    "    }\n",
    "}"
   ]
  }
 ],
 "metadata": {
  "kernelspec": {
   "display_name": "PowerShell",
   "language": "powershell",
   "name": "powershell"
  },
  "language_info": {
   "codemirror_mode": "shell",
   "file_extension": ".ps1",
   "mimetype": "text/x-sh",
   "name": "powershell"
  }
 },
 "nbformat": 4,
 "nbformat_minor": 2
}
