{
 "cells": [
  {
   "cell_type": "markdown",
   "metadata": {},
   "source": [
    "# PowerShell Control Flow Basics\n",
    "In PowerShell scripting, control flow structures like conditional statements and loops allow you to dictate how your script executes based on conditions and iterations. Understanding these structures is essential for writing efficient automation scripts and interactive programs.\n",
    "\n",
    "Conditional statements help execute specific blocks of code depending on whether a condition evaluates to ```$true``` or ```$false```."
   ]
  },
  {
   "cell_type": "markdown",
   "metadata": {},
   "source": [
    "## Conditional Statement ```if```\n",
    "The ```if``` statement executes a block of code (code in between curly brackets ```{}```) if a condition is true.\n",
    "\n",
    "Review the example code below containing three ```if``` statements. Each statements check to see if ```$number``` is greater than, less than, or equals 0. If the condition evaluates to ```$true```, PowerShell runs the code block only for that statement.\n",
    "\n",
    "Run the code below to see the output and verify which statement PowerShell should print.\n",
    "Change the value of ```$number``` to ```-10``` and ```0``` to see the change in output."
   ]
  },
  {
   "cell_type": "code",
   "execution_count": null,
   "metadata": {},
   "outputs": [],
   "source": [
    "$number = 10\n",
    "\n",
    "if ($number -gt 0)\n",
    "{\n",
    "    \"$number is greater than zero.\"\n",
    "}\n",
    "\n",
    "if ($number -lt 0)\n",
    "{\n",
    "    \"$number is less than zero.\"\n",
    "}\n",
    "\n",
    "if ($number -eq 0)\n",
    "{\n",
    "    \"The number is zero.\"\n",
    "}"
   ]
  },
  {
   "cell_type": "markdown",
   "metadata": {},
   "source": [
    "## Conditional Statement ```else```\n",
    "The ```else``` statement executes a block of code if no other ```if``` condition evaluates to true.\n",
    "\n",
    "Examine the updated code example below. Notice how the ```else``` statement will run after the ```if``` statement evaluates to false."
   ]
  },
  {
   "cell_type": "code",
   "execution_count": null,
   "metadata": {},
   "outputs": [],
   "source": [
    "$number = -10\n",
    "\n",
    "if ($number -gt 0)\n",
    "{\n",
    "    \"$number is greater than zero.\"\n",
    "}\n",
    "else\n",
    "{\n",
    "    \"$number is less than zero.\"\n",
    "}"
   ]
  },
  {
   "cell_type": "markdown",
   "metadata": {},
   "source": [
    "However, there is a logic issue with the above statement. What if ```$number``` is equal to ```0```? The code will output ```0 is less than zero.```, which is not an accurate statement. Move onto the next section to see how to deal with this scenario."
   ]
  },
  {
   "cell_type": "markdown",
   "metadata": {},
   "source": [
    "## Conditional Statement ```elseif```\n",
    "The ```elseif``` evaluates another condition if the previous ```if``` or another ```elseif``` above it also evaluates to false.\n",
    "\n",
    "Review the updated code below.\n",
    "- The first statement checks to see if the number is greater than zero.\n",
    "- The second statement checks to see if the number is less than zero.\n",
    "- If all above statements are false, then the number must be zero, executing the ```else``` block.\n",
    "\n",
    "Run the PowerShell code as is, then modify ```$number``` to change which statement is shown."
   ]
  },
  {
   "cell_type": "code",
   "execution_count": null,
   "metadata": {},
   "outputs": [],
   "source": [
    "$number = 10\n",
    "\n",
    "if ($number -gt 0)\n",
    "{\n",
    "    \"$number is greater than zero.\"\n",
    "}\n",
    "elseif ($number -lt 0)\n",
    "{\n",
    "    \"$number is less than zero.\"\n",
    "}\n",
    "else\n",
    "{\n",
    "    \"The number is zero.\"\n",
    "}"
   ]
  },
  {
   "cell_type": "markdown",
   "metadata": {},
   "source": [
    "## Fast Facts\n",
    "Here are some additional information when working with ```if-elseif-else``` statements\n",
    "\n",
    "- Once a condition evaluates to ```$true```, PowerShell does not check the remaining ```elseif``` or ```else``` statements.\n",
    "- The ```else``` block does not have a condition; it runs **only** when all previous conditions evaluate to false.\n",
    "- PowerShell automatically treats non-boolean values as ```$true``` or ```$false``` in an ```if``` statement.\n",
    "    - **Truthy Values**: Non-zero numbers, non-empty strings, non-null objects\n",
    "    - **Falsy Values**: ```$null```, ```0```, ```\"\"``` (empty string), ```$false```"
   ]
  },
  {
   "cell_type": "code",
   "execution_count": null,
   "metadata": {},
   "outputs": [],
   "source": [
    "if (\"Hello\") { Write-Output \"This runs because the string is non-empty.\" }\n",
    "if ($null) { Write-Output \"This will NOT run because `$null` is false.\" }\n",
    "if (0) { Write-Output \"This will NOT run because 0 is false.\" }"
   ]
  },
  {
   "cell_type": "markdown",
   "metadata": {},
   "source": [
    "- You can use multiple conditions with ```-and``` and ```-or```"
   ]
  },
  {
   "cell_type": "code",
   "execution_count": null,
   "metadata": {},
   "outputs": [],
   "source": [
    "$age = 25\n",
    "$hasLicense = $true\n",
    "\n",
    "if ($age -ge 18 -and $hasLicense) {\n",
    "    Write-Output \"You can drive!\"\n",
    "}\n",
    "\n",
    "$weather = \"rainy\"\n",
    "$time = \"day\"\n",
    "\n",
    "if ($weather -eq \"sunny\" -or $time -eq \"day\") {\n",
    "    Write-Output \"You can go outside.\"\n",
    "}"
   ]
  },
  {
   "cell_type": "markdown",
   "metadata": {},
   "source": [
    "- Use parentheses to group or clarify compound statements"
   ]
  },
  {
   "cell_type": "code",
   "execution_count": null,
   "metadata": {},
   "outputs": [],
   "source": [
    "$temperature = 40\n",
    "$windSpeed = 5\n",
    "\n",
    "if (($temperature -gt 30 -and $temperature -lt 50) -or $windSpeed -lt 10) {\n",
    "    Write-Output \"Nice weather!\"\n",
    "}"
   ]
  },
  {
   "cell_type": "markdown",
   "metadata": {},
   "source": [
    "- Use ```-not``` to negate conditions"
   ]
  },
  {
   "cell_type": "code",
   "execution_count": null,
   "metadata": {},
   "outputs": [],
   "source": [
    "$isReady = $false\n",
    "\n",
    "# This evaluates to $true because it is the opposite of $false\n",
    "if (-not $isReady) {\n",
    "    Write-Output \"Not ready yet!\"\n",
    "}"
   ]
  },
  {
   "cell_type": "markdown",
   "metadata": {},
   "source": [
    "- By default, PowerShell comparisons like ```-eq```, ```-ne```, ```-like``` are case-insensitive. If you need a case-sensitive comparison, use ```-ceq``` instead of ```-eq``` (the ```c``` means *case-sensitive*)."
   ]
  },
  {
   "cell_type": "code",
   "execution_count": null,
   "metadata": {},
   "outputs": [],
   "source": [
    "$string = \"HELLO\"\n",
    "\n",
    "# Evaluates to $true even though $string and \"hello\" have different cases\n",
    "if ($string -eq \"hello\") {\n",
    "    Write-Output \"Match found!\"\n",
    "}\n",
    "\n",
    "# Evaluates to $false and displays \"No match!\"\n",
    "if ($string -ceq \"hello\") {\n",
    "    Write-Output \"Match found!\"\n",
    "} else {\n",
    "    Write-Output \"No match!\"\n",
    "}"
   ]
  },
  {
   "cell_type": "markdown",
   "metadata": {},
   "source": [
    "- If checking a boolean value, it is not always necessary to check against ```$true``` or ```$false```\n",
    "    ```powershell\n",
    "    $isRunning = $true\n",
    "\n",
    "    # These two if statements are the same, the second being simpler\n",
    "    if ($isRunning -eq $true) { Write-Output \"Running\" }\n",
    "    if ($isRunning) { Write-Output \"Running\" }\n",
    "\n",
    "    # These two if statements are the same, with the second saying \"if not $true\"\n",
    "    if ($isRunning -eq $false) { Write-Output \"Not Running\" }\n",
    "    if (-not $isRunning) { Write-Output \"Not Running\" }\n",
    "    ```\n",
    "\n",
    "  - **Note**: There is some debate whether to always include a ```$true``` of ```$false``` comparison against boolean values. Some argue that including it makes reading the code easier while others say it is not necessary. Some edge cases have appeared when the scripter had to include the comparison."
   ]
  },
  {
   "cell_type": "markdown",
   "metadata": {},
   "source": [
    "## Exercise - Determine Letter Grade\n",
    "Use your knowledge of ```if-elseif-else``` statements to determine a student's letter grade based on a score. Output a message telling the student what their grade is. Letter grades are assigned:\n",
    "\n",
    "| Score  | Letter |\n",
    "|--------|--------|\n",
    "|90 - 100|A       |\n",
    "|80 - 89 |B       |\n",
    "|70 - 79 |C       |\n",
    "|60 - 69 |D       |\n",
    "|0 - 59  |F       |\n",
    "\n",
    "Modify the ```$score``` variable to test each condition.\n",
    "\n",
    "When finished, view a possible solution here: [letter_grade.ps1](./solutions/letter_grade.ps1)"
   ]
  },
  {
   "cell_type": "code",
   "execution_count": null,
   "metadata": {},
   "outputs": [],
   "source": [
    "$score = 85\n",
    "\n",
    "# Your code here"
   ]
  }
 ],
 "metadata": {
  "kernelspec": {
   "display_name": "PowerShell",
   "language": "powershell",
   "name": "powershell"
  },
  "language_info": {
   "codemirror_mode": "shell",
   "file_extension": ".ps1",
   "mimetype": "text/x-sh",
   "name": "powershell"
  }
 },
 "nbformat": 4,
 "nbformat_minor": 2
}
