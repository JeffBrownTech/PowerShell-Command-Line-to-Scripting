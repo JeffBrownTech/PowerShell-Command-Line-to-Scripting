{
 "cells": [
  {
   "cell_type": "markdown",
   "metadata": {},
   "source": [
    "# ```foreach``` Loops\n",
    "Another way to iterate through a collection is the ```foreach``` loop, which has several variations.\n",
    "\n",
    "## ```foreach```\n",
    "The ```foreach``` statement does not rely on a counter or index to display items. The ```foreach``` statement syntax is outlined below. You begin with the ```foreach``` keyword followed by a set of parentheses ```( )```.\n",
    "\n",
    "In the parentheses, you reference the collection or array you want to iterate through (```$collection```) and how to identify the current item in the loop (```$item```). PowerShell automatically creates the ```$item``` variable, so you do not need to define it beforehand.\n",
    "\n",
    "Finally, you enclose the action to take on each loop iteration in a set of curly brackets ```{ }```.\n",
    "\n",
    "```powershell\n",
    "foreach ($item in $collection) {\n",
    "    # loop statements go here\n",
    "}\n",
    "```\n",
    "\n",
    "Examine the code below and run it to see ```foreach``` in action."
   ]
  },
  {
   "cell_type": "code",
   "execution_count": 3,
   "metadata": {},
   "outputs": [
    {
     "name": "stdout",
     "output_type": "stream",
     "text": [
      "Jeff\n",
      "Mary\n",
      "John\n",
      "Heather\n"
     ]
    }
   ],
   "source": [
    "# Define the array\n",
    "$namesArray = \"Jeff\",\"Mary\",\"John\",\"Heather\"\n",
    "\n",
    "# Create a foreach loop to iterate through each array item\n",
    "foreach ($name in $namesArray)\n",
    "{\n",
    "    $name\n",
    "}"
   ]
  },
  {
   "cell_type": "markdown",
   "metadata": {},
   "source": [
    "### Populate an array\n"
   ]
  },
  {
   "cell_type": "markdown",
   "metadata": {},
   "source": [
    "## ```ForEach-Object```\n",
    "The ```ForEach-Object``` is similar to the ```foreach``` statement in that it loops through a collection of objects and performs operations against each. However, the difference is the ````ForEach-Object```` statement is used in the pipeline.\n",
    "\n",
    "**Note**: ```ForEach-Object``` does have an alias of “foreach”. This alias is not to be confused with the previous ```foreach``` statement in the tutorial. They are two separate commands and have different functionality.\n",
    "\n",
    "```ForEach-Object``` also uses the percent sign ```%``` as an alias. This alias is commonly used when typing commands at a PowerShell prompt but should be avoided when writing scripts and functions. Always use complete commands when writing scripts and functions."
   ]
  },
  {
   "cell_type": "markdown",
   "metadata": {},
   "source": [
    "Here is an example of passing an array to the ```ForEach-Object``` command. Note the use of ```$_``` in the script block. This syntax represents the current object in the pipeline. Unlike the previous ```foreach``` statement, you do not have to define a variable name for the current item."
   ]
  },
  {
   "cell_type": "code",
   "execution_count": 5,
   "metadata": {},
   "outputs": [
    {
     "name": "stdout",
     "output_type": "stream",
     "text": [
      "Current Item: Jeff\n",
      "Current Item: Mary\n",
      "Current Item: John\n",
      "Current Item: Heather\n"
     ]
    }
   ],
   "source": [
    "$namesArray = \"Jeff\",\"Mary\",\"John\",\"Heather\"\n",
    "\n",
    "$namesArray | ForEach-Object { \"Current Item: $_\" }"
   ]
  },
  {
   "cell_type": "markdown",
   "metadata": {},
   "source": [
    "Examine the code example below. You initially use ```Get-Process``` to retrieve all running processes on the local system. You then pipe these results over to ```ForEach-Object``` and use a script block to take action on each object, such as listing processes that start with \"A\". Notice how you can access properties of the current item in the pipeline (\"ProcessName\")."
   ]
  },
  {
   "cell_type": "code",
   "execution_count": 4,
   "metadata": {},
   "outputs": [
    {
     "name": "stdout",
     "output_type": "stream",
     "text": [
      "AccessoryCenter.ContainerApp.Main\n",
      "AccessoryCenter.DesktopBridge.DeviceService\n",
      "AggregatorHost\n",
      "ApplicationFrameHost\n",
      "AppVShNotify\n"
     ]
    }
   ],
   "source": [
    "Get-Process | ForEach-Object {\n",
    "    if ($_.ProcessName -like \"A*\") {\n",
    "        $_.ProcessName\n",
    "    }\n",
    "}"
   ]
  },
  {
   "cell_type": "markdown",
   "metadata": {},
   "source": [
    "### Parallel Processing\n",
    "PowerShell 7 introduced a third parameter that enables running each script block in parallel. Use the ```Parallel``` parameter to allow parallel processing and the ```ThrottleLimit``` parameter to dictate the number of parallel scripts running simultaneously. PowerShell creates a new runspace for each loop iteration to ensure an isolated environment for each parallel process.\n",
    "\n",
    "Like the script block from earlier, use the ```$_``` variable to reference the current input object. You can reference variables outside the script block with the ```$using:``` keyword.\n",
    "\n",
    "The example below defines a string variable named ```$Message``` with a value of ```\"Processing:\"```. Next, use the range operator to generate a list of numbers from 1 through 12 and pipe this to ```ForEach-Object```.\n",
    "\n",
    "Next, add the ```Parallel``` parameter with a script block. The script block references the ```$Message``` variable using the ```$using:Message``` syntax and outputs the current input object. The script block then sleeps for 2 seconds. Finally, set ```ThrottleLimit``` to ```4```.\n",
    "\n",
    "**Note**: Jupyter notebooks does not support PowerShell 7, so just review the code example below.\n",
    "\n",
    "```powershell\n",
    "$Message = \"Processing:\"\n",
    "1..12 | ForEach-Object -Parallel {\n",
    "    \"$using:Message $_\"\n",
    "    Start-Sleep -Seconds 2\n",
    "} -ThrottleLimit 4\n",
    "```"
   ]
  },
  {
   "cell_type": "markdown",
   "metadata": {},
   "source": [
    "## Exercise - Array Manipulation\n",
    "Write a PowerShell script using both ```foreach``` and ```ForEach-Object``` to process a list of numbers.\n",
    "\n",
    "Given this array of numbers:\n",
    "\n",
    "```$numbers = @(3, 10, 7, 18, 25, 12, 5, 30, 8)```\n",
    "\n",
    "Use a ```foreach``` loop to populate a new array containing numbers greater than 10.\n",
    "\n",
    "Use a ```ForEach-Object``` to print each number from the new array, but multiply each value by 2 before displaying it.\n",
    "\n",
    "The output should look similar to this:\n",
    "```\n",
    "Numbers over 10:\n",
    "18\n",
    "25\n",
    "12\n",
    "30\n",
    "Doubled:\n",
    "36\n",
    "50\n",
    "24\n",
    "60\n",
    "```\n",
    "\n",
    "Use the starter code below for your solution.\n",
    "When ready, view the suggested solution: [array_manipulation.ps1](./solutions/array_manipulation.ps1)"
   ]
  },
  {
   "cell_type": "code",
   "execution_count": null,
   "metadata": {},
   "outputs": [],
   "source": [
    "$numbers = @(3, 10, 7, 18, 25, 12, 5, 30, 8)\n",
    "\n",
    "# Your code here"
   ]
  }
 ],
 "metadata": {
  "kernelspec": {
   "display_name": "PowerShell",
   "language": "powershell",
   "name": "powershell"
  },
  "language_info": {
   "codemirror_mode": "shell",
   "file_extension": ".ps1",
   "mimetype": "text/x-sh",
   "name": "powershell"
  }
 },
 "nbformat": 4,
 "nbformat_minor": 2
}
