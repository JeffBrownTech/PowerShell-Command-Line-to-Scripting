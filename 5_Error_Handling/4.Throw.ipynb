{
 "cells": [
  {
   "cell_type": "markdown",
   "metadata": {},
   "source": [
    "# Using Throw to Generate Custom Errors\n",
    "PowerShell’s ```Throw``` keyword allows you to intentionally generate errors when something unexpected occurs in your script. This is useful when you want to enforce custom logic, validate inputs, or trigger error handling in a controlled way."
   ]
  },
  {
   "cell_type": "markdown",
   "metadata": {},
   "source": [
    "**Why Use Throw?**\n",
    "\n",
    "Sometimes a command may succeed from PowerShell's perspective but still produce a result that’s unacceptable for your script logic. Using ```Throw```, you can:\n",
    "\n",
    "- Interrupt script execution when a condition fails\n",
    "- Trigger a ```Catch``` block inside ```Try/Catch```\n",
    "- Generate clear, custom error messages for the user or log"
   ]
  },
  {
   "cell_type": "markdown",
   "metadata": {},
   "source": [
    "## Basic Usage\n",
    "\n",
    "```powershell\n",
    "Throw \"Something went wrong.\"\n",
    "```\n",
    "\n",
    "This immediately stops script execution and throws a terminating error with the message ```\"Something went wrong.\"```."
   ]
  },
  {
   "cell_type": "markdown",
   "metadata": {},
   "source": [
    "## Using Throw with Conditional Logic\n",
    "You can use ```Throw``` inside ```If``` statements to catch unwanted states:\n",
    "\n",
    "```powershell\n",
    "$userInput = Read-Host \"Enter a number\"\n",
    "\n",
    "If (-not ($userInput -as [int])) {\n",
    "    Throw \"Invalid input: not a number.\"\n",
    "}\n",
    "\n",
    "Write-Host \"You entered a valid number: $userInput\"\n",
    "```\n",
    "\n",
    "If the user enters non-numeric input, the script throws a custom error."
   ]
  },
  {
   "cell_type": "markdown",
   "metadata": {},
   "source": [
    "## Catching Thrown Errors\n",
    "When used in a ```Try``` block, a ```Throw``` statement will immediately jump to the ```Catch``` block:\n",
    "\n",
    "```powershell\n",
    "Try {\n",
    "    $age = Read-Host \"Enter your age\"\n",
    "    \n",
    "    if ($age -lt 0) {\n",
    "        Throw \"Age cannot be negative.\"\n",
    "    }\n",
    "\n",
    "    Write-Host \"Age is valid: $age\"\n",
    "}\n",
    "Catch {\n",
    "    Write-Warning \"Caught error: $($_.Exception.Message)\"\n",
    "}\n",
    "```"
   ]
  },
  {
   "cell_type": "markdown",
   "metadata": {},
   "source": [
    "## Throw vs. Write-Error\n",
    "|Command\t|Behavior|\n",
    "|-----------|--------|\n",
    "|```Throw```\t|Immediately stops script execution with a terminating error.|\n",
    "|```Write-Error```\t|Logs an error message but does not stop execution (non-terminating by default).|\n",
    "\n",
    "```powershell\n",
    "Write-Error \"This is a problem\"   # Script continues\n",
    "Throw \"This is fatal\"             # Script stops\n",
    "```\n",
    "\n",
    "If you want ```Write-Error``` to behave like ```Throw```, you must combine it with ```-ErrorAction Stop```, which isn't common."
   ]
  },
  {
   "cell_type": "markdown",
   "metadata": {},
   "source": [
    "## Summary\n",
    "\n",
    "- Use Throw to intentionally stop execution and report custom errors.\n",
    "- It’s great for enforcing logic, validating conditions, or short-circuiting flawed execution paths.\n",
    "- Combine with Try/Catch to handle thrown errors gracefully.\n",
    "- Throw creates terminating errors, unlike Write-Error, which is non-terminating by default."
   ]
  }
 ],
 "metadata": {
  "language_info": {
   "name": "csharp"
  }
 },
 "nbformat": 4,
 "nbformat_minor": 2
}
