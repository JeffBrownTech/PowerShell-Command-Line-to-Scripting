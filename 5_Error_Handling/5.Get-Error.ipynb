{
 "cells": [
  {
   "cell_type": "markdown",
   "metadata": {},
   "source": [
    "# Using ```Get-Error``` (PowerShell 7+)\n",
    "Starting in PowerShell 7, you get access to a powerful cmdlet called ```Get-Error```. It provides detailed, structured error information that goes far beyond what ```$Error[0]``` or a basic exception message can show.\n",
    "\n",
    "This is especially useful when diagnosing complex issues or working with nested exceptions from .NET, REST APIs, or external tools."
   ]
  },
  {
   "cell_type": "markdown",
   "metadata": {},
   "source": [
    "## What is ```Get-Error```?\n",
    "```Get-Error``` is a diagnostic cmdlet introduced in PowerShell 7 that:\n",
    "\n",
    "- Displays detailed error information (including inner exceptions, error IDs, script call stacks, etc.)\n",
    "- Works with the last error by default, or any error object you pass in\n",
    "- Helps troubleshoot nested or wrapped exceptions that are hard to interpret with ```$_.Exception.Message```"
   ]
  },
  {
   "cell_type": "markdown",
   "metadata": {},
   "source": [
    "## Basic Usage\n",
    "\n",
    "```powershell\n",
    "# Trigger an error\n",
    "Get-Item \"C:\\missing.txt\" -ErrorAction Stop\n",
    "\n",
    "# Inspect it\n",
    "Get-Error\n",
    "```\n",
    "\n",
    "By default, ```Get-Error``` will analyze ```$Error[0]```—the most recent error—and print a full error report to the screen."
   ]
  },
  {
   "cell_type": "markdown",
   "metadata": {},
   "source": [
    "## Sample Output Sections\n",
    "```Get-Error``` gives you output like:\n",
    "- **Exception** Message: A short description of the error.\n",
    "- **Exception Type**: The .NET class of the exception.\n",
    "- **Invocation Info**: Which command, script line, and location triggered the error.\n",
    "- **Target Object**: What the cmdlet was trying to act on.\n",
    "- **Inner Exceptions**: The underlying error(s) that caused the top-level failure."
   ]
  },
  {
   "cell_type": "markdown",
   "metadata": {},
   "source": [
    "## Comparison: ```$Error```, ```$_```, and ```Get-Error```\n",
    "\n",
    "|Tool\t|Use Case\t|PowerShell Version|\n",
    "|-------|-----------|------------------|\n",
    "|```$Error[0]```\t|Quick access to the last error\t|All versions|\n",
    "|```$_```\t|Current error inside a ```Catch``` block\t|All versions|\n",
    "|```Get-Error```\t|Full deep-dive into error context and cause\t|PowerShell 7+|"
   ]
  },
  {
   "cell_type": "markdown",
   "metadata": {},
   "source": [
    "## Summary\n",
    "\n",
    "- ```Get-Error``` provides full error diagnostics and is available in PowerShell 7+.\n",
    "- Use it after a script fails or inside ```Catch``` blocks for deeper insights.\n",
    "- It helps expose inner exceptions and detailed metadata hidden in wrapped errors.\n",
    "- Pair it with custom logging to supercharge your debugging process."
   ]
  }
 ],
 "metadata": {
  "kernelspec": {
   "display_name": "PowerShell",
   "language": "powershell",
   "name": "powershell"
  },
  "language_info": {
   "codemirror_mode": "shell",
   "file_extension": ".ps1",
   "mimetype": "text/x-sh",
   "name": "powershell"
  }
 },
 "nbformat": 4,
 "nbformat_minor": 2
}
