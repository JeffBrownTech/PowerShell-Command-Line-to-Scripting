{
 "cells": [
  {
   "cell_type": "markdown",
   "metadata": {},
   "source": [
    "# Controlling Error Behavior with ErrorAction\n",
    "PowerShell cmdlets often generate non-terminating errors by default, which means they report the error but continue running the script. To properly handle errors with ```Try/Catch```, or to suppress them entirely, you can use the ```-ErrorAction``` parameter and the ```$ErrorActionPreference``` variable to control error behavior."
   ]
  },
  {
   "cell_type": "markdown",
   "metadata": {},
   "source": [
    "## The -ErrorAction Parameter\n",
    "Most cmdlets in PowerShell support a common parameter called ```-ErrorAction```, which lets you override the default error-handling behavior for that command.\n",
    "\n",
    "**Common -ErrorAction Values**\n",
    "\n",
    "|Value\t|Description|\n",
    "|-------|-----------|\n",
    "|Continue\t|(Default) Displays the error and continues executing the script.|\n",
    "|Stop\t|Treats the error as terminating; useful with Try/Catch.|\n",
    "|SilentlyContinue\t|Suppresses the error message and continues silently.|\n",
    "|Inquire\t|Prompts the user for confirmation before proceeding.|\n",
    "|Ignore\t|Suppresses the error and does not add it to the $Error variable.|\n",
    "|Suspend\t|Used in workflows to suspend the operation. (Rarely used in typical scripts)|"
   ]
  },
  {
   "cell_type": "markdown",
   "metadata": {},
   "source": [
    "### Example: Forcing a Catch Block with -ErrorAction Stop\n",
    "By default, many cmdlets—like ```Get-Item```—do not stop execution when an error occurs. Here's how to change that:\n",
    "\n",
    "```powershell\n",
    "Try {\n",
    "    Get-Item \"C:\\missing.txt\" -ErrorAction Stop\n",
    "}\n",
    "Catch {\n",
    "    Write-Warning \"Caught an error: $($_.Exception.Message)\"\n",
    "}\n",
    "```\n",
    "\n",
    "Without ```-ErrorAction Stop```, the ```Catch``` block wouldn’t run because ```Get-Item``` normally generates a non-terminating error.\n",
    "\n",
    "### Suppressing Errors with SilentlyContinue\n",
    "If you want to suppress an error (like a missing file) without stopping the script or cluttering the output:\n",
    "\n",
    "```powershell\n",
    "Get-Item \"C:\\maybe-missing.txt\" -ErrorAction SilentlyContinue\n",
    "```\n",
    "\n",
    "This is useful when the error isn't important to the script logic but you'd like to avoid noise in the output."
   ]
  },
  {
   "cell_type": "markdown",
   "metadata": {},
   "source": [
    "#### Tip: ErrorAction Applies Only to Cmdlet-Generated Errors\n",
    "The ```-ErrorAction``` parameter and ```$ErrorActionPreference``` only influence non-terminating errors produced by cmdlets. Syntax errors, Throw, and other terminating conditions are not affected by these settings."
   ]
  },
  {
   "cell_type": "markdown",
   "metadata": {},
   "source": [
    "## Using $ErrorActionPreference\n",
    "Instead of specifying ```-ErrorAction``` on every command, you can set the default behavior for the entire script using the ```$ErrorActionPreference``` variable:\n",
    "\n",
    "```powershell\n",
    "$ErrorActionPreference = \"Stop\"\n",
    "\n",
    "# Now this will trigger the Catch block without needing -ErrorAction Stop\n",
    "Try {\n",
    "    Get-Item \"C:\\still-missing.txt\"\n",
    "}\n",
    "Catch {\n",
    "    Write-Warning \"Caught an error using ErrorActionPreference: $($_.Exception.Message)\"\n",
    "}\n",
    "```\n",
    "\n",
    "Be cautious with this approach—setting ```\"Stop\"``` globally can cause errors in parts of your script you didn’t expect to fail."
   ]
  }
 ],
 "metadata": {
  "language_info": {
   "name": "csharp"
  }
 },
 "nbformat": 4,
 "nbformat_minor": 2
}
