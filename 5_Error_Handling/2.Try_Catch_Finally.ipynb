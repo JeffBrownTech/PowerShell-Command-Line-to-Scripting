{
 "cells": [
  {
   "cell_type": "markdown",
   "metadata": {},
   "source": [
    "# Using Try, Catch, and Finally\n",
    "PowerShell provides structured error handling using the ```Try```, ```Catch```, and ```Finally``` blocks. This construct allows you to gracefully handle terminating errors, log meaningful messages, and clean up resources—making your scripts more reliable and easier to troubleshoot."
   ]
  },
  {
   "cell_type": "markdown",
   "metadata": {},
   "source": [
    "## Basic Syntax and Flow\n",
    "\n",
    "Review the sample syntax below for how the ```Try```, ```Catch```, and ```Finally``` blocks work.\n",
    "\n",
    "- **Try**: Contains code that might generate a terminating error.\n",
    "- **Catch**: Executes only if an error occurs in the ```Try``` block.\n",
    "- **Finally**: (Optional) Always runs, whether or not an error occurred—ideal for cleanup tasks.\n",
    "\n",
    "```powershell\n",
    "Try {\n",
    "    # Code that might cause an error\n",
    "}\n",
    "Catch {\n",
    "    # Code to handle the error\n",
    "}\n",
    "Finally {\n",
    "    # Code that always runs (optional)\n",
    "}\n",
    "```"
   ]
  },
  {
   "cell_type": "markdown",
   "metadata": {},
   "source": [
    "### Example: Handling File Read Errors\n",
    "\n",
    "Review and run the code sample below. Because ```Get-Content``` throws a non-terminating error by default, adding ```-ErrorAction Stop``` converts it to a terminating error. Adding this parameter ensures the ```Catch``` block runs."
   ]
  },
  {
   "cell_type": "code",
   "execution_count": null,
   "metadata": {},
   "outputs": [],
   "source": [
    "Try {\n",
    "    $content = Get-Content \"C:\\doesnotexist.txt\" -ErrorAction Stop\n",
    "    Write-Output $content\n",
    "}\n",
    "Catch {\n",
    "    Write-Warning \"Failed to read the file. Error: $_\"\n",
    "}\n",
    "Finally {\n",
    "    Write-Output \"Script completed.\"\n",
    "}"
   ]
  },
  {
   "cell_type": "markdown",
   "metadata": {},
   "source": [
    "## Understanding ```$_``` in the Catch Block\n",
    "The automatic variable ```$_``` inside a Catch block refers to the current error object that was caught. This variable gives you access to detailed error information and is essential for meaningful error reporting or debugging.\n",
    "\n",
    "Basic Use\n",
    "When used directly, ````$_```` defaults to the error message:\n",
    "\n",
    "```powershell\n",
    "Catch {\n",
    "    Write-Warning \"Something went wrong: $_\"\n",
    "}\n",
    "```\n",
    "\n",
    "You can extract specific details from the error object:\n",
    "\n",
    "```powershell\n",
    "Catch {\n",
    "    Write-Host \"Error Message: $($_.Exception.Message)\"\n",
    "    Write-Host \"Error Type: $($_.Exception.GetType().FullName)\"\n",
    "    Write-Host \"Error Line: $($_.InvocationInfo.ScriptLineNumber)\"\n",
    "}\n",
    "```\n",
    "\n",
    "These properties are useful when logging errors or providing user-friendly output."
   ]
  },
  {
   "cell_type": "markdown",
   "metadata": {},
   "source": [
    "## Catching Specific Exception Types\n",
    "You can optionally catch specific .NET exception types to handle different error scenarios more precisely. Catch blocks are checked in order, and the most specific exception type should come first.\n",
    "\n",
    "To find the exception name, use ```$_.Exception.GetType().FullName``` in a general catch block to learn which exception type was thrown. You can also recreate the error in a terminal, then use"
   ]
  },
  {
   "cell_type": "code",
   "execution_count": null,
   "metadata": {},
   "outputs": [],
   "source": [
    "Try {\n",
    "    $content = Get-Content \"C:\\doesnotexist.txt\" -ErrorAction Stop\n",
    "    Write-Output $content\n",
    "}\n",
    "Catch [System.Management.Automation.ItemNotFoundException] {\n",
    "    Write-Warning \"The file does not exist.\"\n",
    "}\n",
    "Catch {\n",
    "    Write-Warning \"Failed to read the file. Error: $_\"\n",
    "}\n",
    "Finally {\n",
    "    Write-Output \"Script completed.\"\n",
    "}"
   ]
  },
  {
   "cell_type": "markdown",
   "metadata": {},
   "source": [
    "#### ❗ Important!\n",
    "Sometimes PowerShell can wrap .NET exceptions inside its own ```RuntimeException``` class. This action means you sometimes don't get the underlying .NET exception. In this case, dig a little deeper by using ```$_.Exception.InnerException.GetType().FullName``` in a general catch block to find the exception type."
   ]
  },
  {
   "cell_type": "markdown",
   "metadata": {},
   "source": [
    "## Using Finally for Cleanup\n",
    "The ```Finally``` block is useful when you need to release resources or log completion regardless of success or failure. Even if the script throws an error, the ```Finally``` block will always run.\n",
    "\n",
    "Review and run the example below and see the message in ```Finally``` displayed."
   ]
  },
  {
   "cell_type": "code",
   "execution_count": null,
   "metadata": {},
   "outputs": [],
   "source": [
    "Try {\n",
    "    # Simulate script logic\n",
    "    Write-Output \"Doing work...\"\n",
    "    throw \"Oops, something went wrong.\"\n",
    "}\n",
    "Catch {\n",
    "    Write-Warning \"Caught an error: $_\"\n",
    "}\n",
    "Finally {\n",
    "    Write-Output \"Cleaning up temporary files...\"\n",
    "}"
   ]
  },
  {
   "cell_type": "markdown",
   "metadata": {},
   "source": [
    "## Recap\n",
    "\n",
    "- Use ```Try``` to wrap risky operations, and ```Catch``` to handle terminating errors.\n",
    "- ```Finally``` is great for cleanup that should always happen.\n",
    "- Use ```-ErrorAction Stop``` to make non-terminating errors work with ```Try/Catch```.\n",
    "- Use ```$_``` inside a ```Catch``` block to inspect the current error object.\n",
    "- Catch specific exceptions when you want to handle errors in a more targeted way."
   ]
  },
  {
   "cell_type": "markdown",
   "metadata": {},
   "source": [
    "## Exercise: Division Calculator\n",
    "\n",
    "Write a PowerShell script that prompts the user for two numbers and performs division. The script should gracefully handle invalid input (like text instead of a number) and division by zero using ```Try```, ```Catch```, and ```Finally```.\n",
    "\n",
    "Use the code below to get started.\n",
    "\n",
    "When ready, view a suggested solution here: [DivisionCalculator.ps1](./solutions/DivisionCalculator.ps1)\n",
    "\n",
    "\n",
    "```powershell\n",
    "# Prompt the user for input\n",
    "$numerator = Read-Host \"Enter the numerator\"\n",
    "$denominator = Read-Host \"Enter the denominator\"\n",
    "\n",
    "Try {\n",
    "    # Convert input to numbers\n",
    "    $num = [int]::Parse($numerator)\n",
    "    $den = [int]::Parse($denominator)\n",
    "\n",
    "    # Perform division\n",
    "    $result = $num / $den\n",
    "    Write-Output \"Result: $result\"\n",
    "}\n",
    "Catch {\n",
    "    # Handle errors\n",
    "}\n",
    "Finally {\n",
    "    # Always runs\n",
    "    Write-Host \"Division attempt complete.\"\n",
    "}\n",
    "```"
   ]
  }
 ],
 "metadata": {
  "kernelspec": {
   "display_name": "PowerShell",
   "language": "powershell",
   "name": "powershell"
  },
  "language_info": {
   "codemirror_mode": "shell",
   "file_extension": ".ps1",
   "mimetype": "text/x-sh",
   "name": "powershell"
  }
 },
 "nbformat": 4,
 "nbformat_minor": 2
}
