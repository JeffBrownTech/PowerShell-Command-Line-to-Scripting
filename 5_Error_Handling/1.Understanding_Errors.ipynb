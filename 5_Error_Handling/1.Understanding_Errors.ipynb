{
 "cells": [
  {
   "cell_type": "markdown",
   "metadata": {},
   "source": [
    "# Understanding PowerShell Errors\n",
    "Effective error handling starts with understanding how PowerShell categorizes and surfaces errors. In this section, we’ll explore the types of errors, how PowerShell stores error information, and the common sources of errors in scripts."
   ]
  },
  {
   "cell_type": "markdown",
   "metadata": {},
   "source": [
    "## Types of Errors\n",
    "\n",
    "PowerShell has two main types of errors:\n",
    "\n",
    "### Non-Terminating Errors\n",
    "These are errors that allow the script or command to continue running. PowerShell will log the error but won’t stop execution unless explicitly told to. Most cmdlets, by default, generate non-terminating errors.\n",
    "\n",
    "Review and run the example below. Even though the file doesn’t exist, the second line runs because the error is non-terminating."
   ]
  },
  {
   "cell_type": "code",
   "execution_count": null,
   "metadata": {},
   "outputs": [],
   "source": [
    "Get-Item \"C:\\nonexistentfile.txt\"\n",
    "Write-Output \"This line will still run.\""
   ]
  },
  {
   "cell_type": "markdown",
   "metadata": {},
   "source": [
    "### Terminating Errors\n",
    "These errors stop script execution immediately unless caught with a Try/Catch block. Syntax errors, critical exceptions, or using ```-ErrorAction Stop``` can cause terminating errors.\n",
    "\n",
    "Review and run the example below. This time, PowerShell throws a terminating error, and the second line won’t execute."
   ]
  },
  {
   "cell_type": "code",
   "execution_count": null,
   "metadata": {},
   "outputs": [],
   "source": [
    "Get-Item \"C:\\nonexistentfile.txt\" -ErrorAction Stop\n",
    "Write-Output \"You won't see this message.\""
   ]
  },
  {
   "cell_type": "markdown",
   "metadata": {},
   "source": [
    "## The ```$Error``` Automatic Variable\n",
    "PowerShell automatically stores error records in a global array variable named ```$Error```. This variable retains a history of the most recent errors in reverse order (most recent first).\n",
    "\n",
    "Review and run the example below. Notice the use of ```[0]``` to get the most recently occurred error. ```$Error``` is an ArrayList made of data type ```ErrorRecord```."
   ]
  },
  {
   "cell_type": "code",
   "execution_count": null,
   "metadata": {},
   "outputs": [],
   "source": [
    "Get-Item \"C:\\fakefile.txt\"\n",
    "$Error[0]   # The most recent error"
   ]
  },
  {
   "cell_type": "markdown",
   "metadata": {},
   "source": [
    "## Common Sources of Errors\n",
    "Understanding what causes errors helps you prevent or handle them effectively. Common sources include:\n",
    "\n",
    "- File or path not found\n",
    "- Access denied (permissions issues)\n",
    "- Null or uninitialized variables\n",
    "- Incorrect parameters or parameter types\n",
    "- Failed web requests or API calls\n",
    "- Module or cmdlet not found"
   ]
  }
 ],
 "metadata": {
  "kernelspec": {
   "display_name": "PowerShell",
   "language": "powershell",
   "name": "powershell"
  },
  "language_info": {
   "codemirror_mode": "shell",
   "file_extension": ".ps1",
   "mimetype": "text/x-sh",
   "name": "powershell"
  }
 },
 "nbformat": 4,
 "nbformat_minor": 2
}
