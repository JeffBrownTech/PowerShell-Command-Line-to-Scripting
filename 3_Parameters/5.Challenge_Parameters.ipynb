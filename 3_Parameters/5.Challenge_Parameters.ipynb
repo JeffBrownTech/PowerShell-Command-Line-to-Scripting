{
 "cells": [
  {
   "cell_type": "markdown",
   "metadata": {},
   "source": [
    "# Parameter Refactor\n",
    "\n",
    "In this exercise, you’ll take a hardcoded PowerShell script and transform it into a flexible, user-friendly tool by applying everything you've learned in this module.\n",
    "\n",
    "The original script performs a basic file operation: it renames a log file and moves it to a backup folder. However, it's rigid—it only works with one specific file and directory, and the overwrite behavior is fixed.\n",
    "\n",
    "Your job is to refactor the script using parameters, validation attributes, and switch logic so it can be reused in different situations without needing to edit the script itself.\n",
    "\n",
    "Here are the requirements for each parameter:\n",
    "- Verify the source path exists\n",
    "- Provide a default value for backup folder if not provided\n",
    "- The new file name must end in ```txt```\n",
    "- Allow the option to overwrite if the file exists\n",
    "\n",
    "The script logic should:\n",
    "- Create the backup folder if it does not exist\n",
    "- Output a message if the option to overwrite is enabled\n",
    "\n",
    "**Note**: You do *NOT* have to code actual file moves or folder creation. You can output messages printing what the script is doing.\n",
    "\n",
    "By the end of this challenge, you should have a script you can execute like this:\n",
    "\n",
    "```powershell\n",
    ".\\Move-LogFile.ps1 -SourcePath \"C:\\Logs\\error.txt\" -NewFileName \"error_backup.txt\" -Overwrite -BackupFolder \"D:\\Archives\"\n",
    "```"
   ]
  },
  {
   "cell_type": "markdown",
   "metadata": {},
   "source": [
    "```powershell\n",
    "$sourcePath = \"C:\\Logs\\old_log.txt\"\n",
    "$backupFolder = \"C:\\Backups\"\n",
    "$newFileName = \"log_backup.txt\"\n",
    "$overwrite = $true\n",
    "\n",
    "if (-not (Test-Path $sourcePath)) {\n",
    "    Write-Host \"Source file not found: $sourcePath\"\n",
    "    exit\n",
    "}\n",
    "\n",
    "if (-not (Test-Path $backupFolder)) {\n",
    "    New-Item -Path $backupFolder -ItemType Directory\n",
    "}\n",
    "\n",
    "$destinationPath = Join-Path $backupFolder $newFileName\n",
    "\n",
    "if (Test-Path $destinationPath -and -not $overwrite) {\n",
    "    Write-Host \"Destination file already exists and overwrite is disabled.\"\n",
    "    exit\n",
    "}\n",
    "\n",
    "Write-Output \"Moving $sourcePath to $destinationPath\"\n",
    "```"
   ]
  }
 ],
 "metadata": {
  "language_info": {
   "name": "python"
  }
 },
 "nbformat": 4,
 "nbformat_minor": 2
}
