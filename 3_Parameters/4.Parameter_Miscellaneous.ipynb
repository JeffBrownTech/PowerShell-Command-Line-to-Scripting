{
 "cells": [
  {
   "cell_type": "markdown",
   "metadata": {},
   "source": [
    "# Miscellaneous: Enhancing Script Usability\n",
    "\n",
    "While the core concepts of script parameters are crucial, there are a few smaller features that can make your scripts more user-friendly, flexible, and professional. These include using aliases, understanding parameter ordering, and working with arrays and hashtables as parameter types."
   ]
  },
  {
   "cell_type": "markdown",
   "metadata": {},
   "source": [
    "## Alias\n",
    "\n",
    "The ```[Alias()]``` attribute allows you to define one or more alternative names for a parameter. This can make your script easier to use and reduce typing for common parameters.\n",
    "\n",
    "Why use aliases?\n",
    "- To provide shorthand versions of parameter names (e.g., -u for -Username)\n",
    "- To support multiple naming conventions (e.g., -Path vs. -FilePath)\n",
    "- To maintain compatibility when refactoring scripts\n",
    "\n",
    "```powershell\n",
    "param (\n",
    "    [Alias(\"u\", \"user\")]\n",
    "    [string]$Username\n",
    ")\n",
    "\n",
    "Write-Output \"Welcome, $Username!\"\n",
    "```\n",
    "\n",
    "Usage:\n",
    "```powershell\n",
    ".\\Script.ps1 -Username \"Alice\"   # Standard name\n",
    ".\\Script.ps1 -u \"Alice\"          # Alias works too\n",
    ".\\Script.ps1 -user \"Alice\"       # Another valid alias\n",
    "```"
   ]
  },
  {
   "cell_type": "markdown",
   "metadata": {},
   "source": [
    "## Parameter Ordering\n",
    "\n",
    "In PowerShell, parameters can be passed by name or by position. What does this mean?\n",
    "\n",
    "Take the ```New-Item``` cmdlet. You can call ```New-Item``` and specify the path using the ```-Path``` parameter, like this:\n",
    "\n",
    "```powershell\n",
    "New-Item -Path C:\\temp\n",
    "```\n",
    "\n",
    "However, you can accomplish the same thing without specifying the ```-Path``` parameter, like this:\n",
    "\n",
    "```powershell\n",
    "New-Item C:\\temp\n",
    "```\n",
    "\n",
    "How does PowerShell know to use ```C:\\temp``` for that parameter value? This syntax works because ```Path``` has been given a position inside it's parameter definition. You can see if a parameter has a position assigned to it using the ```Get-Help``` cmdlet."
   ]
  },
  {
   "cell_type": "code",
   "execution_count": 4,
   "metadata": {},
   "outputs": [
    {
     "name": "stdout",
     "output_type": "stream",
     "text": [
      "\n",
      "-Path <string[]>\n",
      "    \n",
      "    Required?                    false\n",
      "    Position?                    0\n",
      "    Accept pipeline input?       true (ByPropertyName)\n",
      "    Parameter set name           nameSet, pathSet\n",
      "    Aliases                      None\n",
      "    Dynamic?                     false\n",
      "    \n",
      "\n",
      "\n",
      "\n"
     ]
    }
   ],
   "source": [
    "Get-Help New-Item -Parameter Path"
   ]
  },
  {
   "cell_type": "markdown",
   "metadata": {},
   "source": [
    "By default, PowerShell will autocomplete parameters based on the order defined in the script or function. You can override this by providing a position value.\n",
    "\n",
    "Review the parameter definition below where ```$Name``` and ```$Age``` have been given position values.\n",
    "\n",
    "```powershell\n",
    "param (\n",
    "    [Parameter(Position = 0)]\n",
    "    [string]$Name,\n",
    "\n",
    "    [Parameter(Position = 1)]\n",
    "    [int]$Age\n",
    ")\n",
    "```\n",
    "\n",
    "You can call the script like this, but it only works if ```Name``` is in position 0 and ```Age``` is position 1.\n",
    "\n",
    "```\n",
    ".\\Script.ps1 \"Alice\" 30\n",
    "```"
   ]
  }
 ],
 "metadata": {
  "kernelspec": {
   "display_name": "PowerShell",
   "language": "powershell",
   "name": "powershell"
  },
  "language_info": {
   "codemirror_mode": "shell",
   "file_extension": ".ps1",
   "mimetype": "text/x-sh",
   "name": "powershell"
  }
 },
 "nbformat": 4,
 "nbformat_minor": 2
}
