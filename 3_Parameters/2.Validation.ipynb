{
 "cells": [
  {
   "cell_type": "markdown",
   "metadata": {},
   "source": [
    "# Validating Parameter Input\n",
    "\n",
    "When writing scripts, ensuring that users provide valid input helps prevent errors and makes the script more reliable. PowerShell provides several parameter validation attributes that automatically check user input before the script executes. These attributes improve user experience and reduce the need for manual error handling inside your script. These validation methods are defined inline with the parameter."
   ]
  },
  {
   "cell_type": "markdown",
   "metadata": {},
   "source": [
    "## ValidateSet()\n",
    "The ```[ValidateSet()]``` attribute restricts a parameter to only allow specific predefined values. If a user tries to pass a value outside this set, PowerShell will throw an error.\n",
    "\n",
    "### Example: Limiting Choices\n",
    "The following example has a parameter ```$Action``` that only accepts three different values: ```Start```, ```Stop```, and ```Restart```.\n",
    "\n",
    "```powershell\n",
    "param (\n",
    "    [Parameter(Mandatory=$true)]\n",
    "    [ValidateSet(\"Start\", \"Stop\", \"Restart\")]\n",
    "    [string]$Action\n",
    ")\n",
    "\n",
    "Write-Output \"Performing action: $Action\"\n",
    "```\n",
    "\n",
    "If the user tries to enter a value other than one defined in the set, they will receive an error message similar to this:\n",
    "\n",
    "```Cannot validate argument on parameter 'Action'. The argument \"Pause\" does not belong to the set \"Start,Stop,Restart\" specified by the ValidateSet attribute.```"
   ]
  },
  {
   "cell_type": "markdown",
   "metadata": {},
   "source": [
    "## ValidateRange()\n",
    "\n",
    "The ```[ValidateRange()]``` attribute ensures that numeric inputs fall within a specific range. This method is useful for restricting values like percentages, time durations, or resource limits.\n",
    "\n",
    "### Example: Enforcing a Number Range\n",
    "\n",
    "The following example has a parameter ```$Percentage``` that only accepts values from 1 to 100.\n",
    "\n",
    "```powershell\n",
    "param (\n",
    "    [ValidateRange(1, 100)]\n",
    "    [int]$Percentage\n",
    ")\n",
    "\n",
    "Write-Output \"Processing $Percentage%...\"\n",
    "```"
   ]
  },
  {
   "cell_type": "markdown",
   "metadata": {},
   "source": [
    "## ValidatePattern()\n",
    "\n",
    "The ```[ValidatePattern()]``` attribute uses regular expressions (**RegEx**) to enforce specific input formats. Validating patterns using RegEx is useful for inputs that follow well-known formats like email addresses, phone numbers, or file paths.\n",
    "\n",
    "**Note**: RegEx can be a complex topic and is not covered here in depth.\n",
    "\n",
    "The example below detects if a North American phone number. These numbers typically have a format like this:\n",
    "\n",
    "- ```123-456-7890```\n",
    "\n",
    "The regular expression ensures the phone number:\n",
    "- Contains exactly 10 digits\n",
    "- Is formatted with dashes (```-```)\n",
    "- Uses only digits and dashes\n",
    "\n",
    "```powershell\n",
    "param (\n",
    "    [ValidatePattern(\"^\\d{3}-\\d{3}-\\d{4}$\")]\n",
    "    [string]$PhoneNumber\n",
    ")\n",
    "```\n",
    "\n",
    "Here are the components of the regex pattern ```^\\d{3}-\\d{3}-\\d{4}$```:\n",
    "- ```^``` → Start of the string\n",
    "- ```\\d{3}``` → Exactly three digits\n",
    "- ```-``` → A required dash (-)\n",
    "- ```\\d{3}``` → Exactly three more digits\n",
    "- ```-``` → Another required dash (-)\n",
    "- ```\\d{4}``` → Exactly four digits\n",
    "- ```$``` → End of the string"
   ]
  },
  {
   "cell_type": "markdown",
   "metadata": {},
   "source": [
    "## ValidateLength()\n",
    "The ```[ValidateLength()]``` attribute ensures that a string is within a specific length range.\n",
    "\n",
    "For example, you have script for creating a Windows-based system, which has a 15-character limit. However, you also want the computer name to be at elast 5 characters.\n",
    "\n",
    "The example parameter definition for ```$ComputerName``` uses ```[ValidateLength()]``` to verify the parameter value matches these requirements.\n",
    "\n",
    "```powershell\n",
    "param (\n",
    "    [ValidateLength(5, 15)]\n",
    "    [string]$ComputerName\n",
    ")\n",
    "```"
   ]
  },
  {
   "cell_type": "markdown",
   "metadata": {},
   "source": [
    "## ValidateScript\n",
    "If none of the built-in validation methods meet your needs, you can write a custom script and test the parameter value using ```[ValidateScript()]```. This method is useful for checking file paths, URLs, or database records prior to running a script.\n",
    "\n",
    "The example below has a parameter named ```$FilePath``` that uses ```[ValidateScript()]``` to verify the path is valid prior to running the script. The use of ```$_``` in the script represents the parameter value being passed to the validation script.\n",
    "\n",
    "```powershell\n",
    "param (\n",
    "    [ValidateScript({ Test-Path $_ })]\n",
    "    [string]$FilePath\n",
    ")\n",
    "```\n",
    "\n",
    "The script should return ```$true``` or perform an operation that results in a boolean value (e.g. ```Test-Path```). If the script determines the value is not valid, have the script return ```$false``` or throw an error.\n",
    "\n",
    "However, [documentation](https://learn.microsoft.com/powershell/module/microsoft.powershell.core/about/about_throw#using-throw-to-create-a-mandatory-parameter) says not to use the ```throw``` keyword but instead return ```$false```. This note may be a reference to older PowerShell versions where using ```throw``` with a descriptive error message.\n",
    "\n",
    "The ```ErrorMessage``` argument was added in PowerShell 6 ([reference](https://learn.microsoft.com/powershell/scripting/developer/cmdlet/validatescript-attribute-declaration#syntax)). An example of using ```ErrorMessage``` is shown below where ```{0}``` represents the parameter value.\n",
    "\n",
    "```powershell\n",
    "param (\n",
    "    [ValidateScript({\n",
    "        Test-Path $_ \n",
    "    }, ErrorMessage = \"The file path '{0}' is not valid or does not exist.\")]\n",
    "    [string]$FilePath\n",
    ")\n",
    "```\n",
    "\n",
    "If you are sure your scripts will be used in PowerShell 6 or higher, return ```$false``` and use the ```ErrorMessage``` argument. Otherwise, you can still use ```throw```."
   ]
  },
  {
   "cell_type": "markdown",
   "metadata": {},
   "source": [
    "## Validate for Not Null or Empty Strings\n",
    "You can also validate that the parameter value is not ```$null``` or an empty string using ```[ValidateNotNull()]``` and ```[ValidateNotNullOrEmpty()]```. Essentially, you do not care what the value is, as long as the user provided a value.\n",
    "\n",
    "- ```[ValidateNotNull()]``` – Prevents ```$null``` values but allows empty strings.\n",
    "- ```[ValidateNotNullOrEmpty()]``` – Prevents both ```$null``` values and empty strings.\n",
    "\n",
    "This example allows an empty string (```\"\"```) but not ```$null```.\n",
    "\n",
    "```powershell\n",
    "param (\n",
    "    [ValidateNotNull()]\n",
    "    [string]$UserName\n",
    ")\n",
    "```\n",
    "This example allows an empty string (```\"\"```) *or* ```$null```.\n",
    "\n",
    "```powershell\n",
    "param (\n",
    "    [ValidateNotNullOrEmpty()]\n",
    "    [string]$UserName\n",
    ")\n",
    "```"
   ]
  },
  {
   "cell_type": "markdown",
   "metadata": {},
   "source": [
    "## Exercise: Create a New User Script\n",
    "Write a script for creating a new user with the following parameters and validation:\n",
    "\n",
    "- A username (5-12 characters)\n",
    "- Password expiration (30-90 days)\n",
    "- Email address (hint: find a regex pattern to match an email address)\n",
    "\n",
    "Display a message confirming the user's account information (*don't actually create any kind of account!*).\n",
    "\n",
    "Test your script with different inputs to verify the parameter validation.\n",
    "\n",
    "When ready, take a look at this example answer: [CreateUser.ps1](./solutions/CreateUser.ps1)"
   ]
  }
 ],
 "metadata": {
  "language_info": {
   "name": "python"
  }
 },
 "nbformat": 4,
 "nbformat_minor": 2
}
