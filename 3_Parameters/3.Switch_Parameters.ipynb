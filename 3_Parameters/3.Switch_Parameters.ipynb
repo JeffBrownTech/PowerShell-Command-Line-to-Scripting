{
 "cells": [
  {
   "cell_type": "markdown",
   "metadata": {},
   "source": [
    "# Using Switch Parameters in PowerShell\n",
    "\n",
    "Switch parameters are a special type of Boolean parameter that don't require an explicit value when specified. Instead, they act as flags to control the behavior of a script. When a switch parameter is used in a command, it evaluates to ```$true```; if it is omitted, it defaults to ```$false```.\n",
    "\n",
    "Why Use Switch Parameters?\n",
    "- **Simplicity**: They allow for clean and easy-to-read commands.\n",
    "- **Control Flow**: Switches are perfect for enabling or disabling features without passing complex values.\n",
    "- **Clarity**: Their presence or absence clearly indicates a binary choice, such as turning a feature on or off."
   ]
  },
  {
   "cell_type": "markdown",
   "metadata": {},
   "source": [
    "## Defining a Switch Parameter\n",
    "\n",
    "Switch parameters are defined similarly to other parameters, but with the ```[switch]``` type. They do not require a value—just their presence signals that they are set to ```$true```.\n",
    "\n",
    "Here's an example with a parameter named ```$VerboseMode``` and its usage in an ```if``` statement.\n",
    "\n",
    "```powershell\n",
    "param (\n",
    "    [switch]$VerboseMode\n",
    ")\n",
    "\n",
    "if ($VerboseMode) {\n",
    "    Write-Output \"Verbose mode is enabled.\"\n",
    "} else {\n",
    "    Write-Output \"Verbose mode is disabled.\"\n",
    "}\n",
    "```\n",
    "\n",
    "If you run the script with the ```-VerboseMode`` parameter specified (but without a value):\n",
    "\n",
    "```.\\MyScript.ps1 -VerboseMode```\n",
    "\n",
    "The script will output ```Verbose mode is enabled.```.\n",
    "\n",
    "Calling the script without the parameter will print ```Verbose mode is disabled.```"
   ]
  },
  {
   "cell_type": "markdown",
   "metadata": {},
   "source": [
    "## Best Practices When Using Switch Parameters\n",
    "\n",
    "### Descriptive Names\n",
    "Choose meaningful names for your switches. For example, ```-Force```, ```-NoPrompt```, or ```-TestMode``` immediately communicate their intent.\n",
    "\n",
    "### Default Behavior\n",
    "Design your script so that omitting a switch results in the default or safe behavior. Only enable specific behavior when the user explicitly provides the switch.\n",
    "\n",
    "### Combining Switches with Other Parameters:\n",
    "Switch parameters can be used in combination with standard parameters to modify the script's execution. For instance, a switch could control whether the script should log output to a file in addition to standard output."
   ]
  },
  {
   "cell_type": "markdown",
   "metadata": {},
   "source": [
    "## Example Scenario: A File Processing Script\n",
    "Imagine a script that processes a file. You might include a switch parameter -Archive to indicate that after processing, the file should be archived.\n",
    "\n",
    "```powershell\n",
    "param (\n",
    "    [string]$FilePath,\n",
    "    [switch]$Archive\n",
    ")\n",
    "\n",
    "if (-not (Test-Path $FilePath)) {\n",
    "    Write-Output \"Error: File not found.\"\n",
    "    exit\n",
    "}\n",
    "\n",
    "Write-Output \"Processing file: $FilePath\"\n",
    "\n",
    "# Simulated processing code\n",
    "Start-Sleep -Seconds 2\n",
    "\n",
    "if ($Archive) {\n",
    "    # Archive the file\n",
    "    Write-Output \"Archiving file: $FilePath\"\n",
    "} else {\n",
    "    Write-Output \"Processing complete. File remains in place.\"\n",
    "}\n",
    "```"
   ]
  },
  {
   "cell_type": "markdown",
   "metadata": {},
   "source": [
    "## Recap\n",
    "- Switch parameters are Boolean flags — they are ```$true``` when present, ```$false``` when omitted.\n",
    "- No value is needed when calling a switch parameter in a script (e.g., ```-Archive```).\n",
    "- Great for toggling behavior such as enabling verbose output, performing optional cleanup, or skipping prompts.\n",
    "- Default behavior should be safe, with switches enabling optional features.\n",
    "- Switches improve readability and clarity in script usage by making options explicit.\n",
    "- Use descriptive names like ```-Force```, ```-DryRun```, or ```-Archive``` to clearly indicate what the switch controls.\n",
    "- Combine with other parameters to add flexibility and make your scripts more dynamic."
   ]
  }
 ],
 "metadata": {
  "language_info": {
   "name": "python"
  }
 },
 "nbformat": 4,
 "nbformat_minor": 2
}
