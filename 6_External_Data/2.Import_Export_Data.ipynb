{
 "cells": [
  {
   "cell_type": "markdown",
   "id": "7a9abe2f",
   "metadata": {},
   "source": [
    "# Importing and Exporting Structured Data\n",
    "In this lesson, you’ll take the next step and learn how to transform external data into PowerShell objects and how to export PowerShell data for reuse. This is essential when working with user data, configurations, or sharing results with others."
   ]
  },
  {
   "cell_type": "markdown",
   "id": "d8cca975",
   "metadata": {},
   "source": [
    "## Import from CSV\n",
    "When importing a CSV file, each row becomes a ```PSCustomObject``` with properties from the header.\n",
    "\n",
    "```powershell\n",
    "$users = Import-Csv -Path .\\users.csv\n",
    "$users[0]  # Access the first row as an object\n",
    "```\n",
    "\n",
    "Run the code sample below to import the ```users.csv``` file in this module's ```solutions``` folder.\n",
    "\n",
    "Using index notation ```[]``` to display the first item from the file.\n",
    "User dot notation ```.``` to access specific properties that correspond to the file's header row."
   ]
  },
  {
   "cell_type": "code",
   "execution_count": null,
   "id": "0777aa79",
   "metadata": {},
   "outputs": [],
   "source": [
    "$users = Import-Csv -Path ./solutions/users.csv\n",
    "$users[0]\n",
    "$users[0].Username\n",
    "$users[0].Department"
   ]
  },
  {
   "cell_type": "markdown",
   "id": "90eb3893",
   "metadata": {},
   "source": [
    "## Export to CSV\n",
    "You can take PowerShell objects and export them to a CSV file. Like importing CSV data, the object's propert names become the header row.\n",
    "\n",
    "```powershell\n",
    "$users | Export-Csv -Path .\\output.csv -NoTypeInformation\n",
    "```\n",
    "\n",
    "The ```-NoTypeInformation``` switch parameter removes the type header line. This is not required in PowerShell 6 and higher.\n",
    "\n",
    "A common task is building a PowerShell object so you can export the contents to CSV. For example, you are cycling through a list of servers and using ```Test-NetConnection``` to see if the server is online and it's IP address.\n",
    "\n",
    "As you look test each server, create a custom PowerShell object to store the information, then output to the pipeline.\n",
    "\n",
    "```powershell\n",
    "# Array of server names\n",
    "$servers = @('google.com', 'bing.com', 'mysearchengine.local')\n",
    "\n",
    "foreach ($server in $servers) {\n",
    "    # Variable initialization\n",
    "    $status = $null\n",
    "    $ipAddress = $null\n",
    "\n",
    "    # Test connectivity\n",
    "    $result = Test-NetConnection -ComputerName $server -WarningAction SilentlyContinue\n",
    "\n",
    "    # Set variables based on results\n",
    "    if ($result.PingSucceeded) {\n",
    "        $status = \"Online\"\n",
    "        $ipAddress = $result.RemoteAddress.IPAddressToString\n",
    "    }\n",
    "    else {\n",
    "        $status = \"Offline\"\n",
    "    }\n",
    "\n",
    "    # Create object\n",
    "    $output = [PSCustomObject]@{\n",
    "        Server = $server\n",
    "        Status = $status\n",
    "        IPAddress = $ipAddress\n",
    "    }\n",
    "\n",
    "    # Output to pipeline\n",
    "    $output\n",
    "}\n",
    "```\n",
    "\n",
    "You can run this script and view output in the console, or pipeline the results to ```Export-CSV``` to store the information into a file.\n",
    "\n",
    "```powershell\n",
    "Test-ServerConnectivity.ps1 | Export-Csv -Path server_inventory.csv\n",
    "```"
   ]
  },
  {
   "cell_type": "markdown",
   "id": "5589e91c",
   "metadata": {},
   "source": [
    "## Import from JSON\n",
    "You can import data found in JSON files. To use the file content in a structured way, use the ```ConvertFrom-Json``` to turn the data into objects used in PowerShell.\n",
    "\n",
    "The JSON file must be properly formatted. Use the ```-Raw``` parameter to avoid parsing issues.\n",
    "\n",
    "Converting JSON to PowerShell objects is useful when receiving responses from web services like APIs.\n",
    "\n",
    "Run the code below to import the data found in ```appsettings.json``` in the ```solutions``` folder, then convert it to usable PowerShell objects."
   ]
  },
  {
   "cell_type": "code",
   "execution_count": null,
   "id": "55112aaf",
   "metadata": {},
   "outputs": [],
   "source": [
    "$appSettings = Get-Content -Path ./solutions/appsettings.json | ConvertFrom-Json\n",
    "\n",
    "$appSettings.ApplicationName\n",
    "$appSettings.Settings.Theme\n",
    "$appSettings.Environments[0].Url"
   ]
  },
  {
   "cell_type": "markdown",
   "id": "97102e38",
   "metadata": {},
   "source": [
    "## Export to JSON\n",
    "Alternatively, you can take a PowerShell object or array and export to JSON using ```ConvertTo-Json```.\n",
    "\n",
    "Run the code below to import data from the ```users.csv``` file and convert to JSON."
   ]
  },
  {
   "cell_type": "code",
   "execution_count": 10,
   "id": "37d8ca68",
   "metadata": {},
   "outputs": [
    {
     "name": "stdout",
     "output_type": "stream",
     "text": []
    }
   ],
   "source": [
    "$users = Import-Csv -Path ./solutions/users.csv\n",
    "$usersJson = $users | ConvertTo-Json -Depth 5\n",
    "$usersJson | Set-Content -Path ./solutions/users.json"
   ]
  },
  {
   "cell_type": "markdown",
   "id": "e1da78eb",
   "metadata": {},
   "source": [
    "## Exercise\n",
    "Import the data found in the [users.csv](./solutions/users.csv) file found in the ```solutions``` folder for this module.\n",
    "\n",
    "Once imported, display all the user in the \"IT\" department. Display only their username, title, and department.\n",
    "\n",
    "When ready, view a possible solution here: [ImportUsers.ps1](./solutions/ImportUsers.ps1)"
   ]
  }
 ],
 "metadata": {
  "kernelspec": {
   "display_name": "PowerShell",
   "language": "powershell",
   "name": "powershell"
  },
  "language_info": {
   "codemirror_mode": "shell",
   "file_extension": ".ps1",
   "mimetype": "text/x-sh",
   "name": "powershell"
  }
 },
 "nbformat": 4,
 "nbformat_minor": 5
}
