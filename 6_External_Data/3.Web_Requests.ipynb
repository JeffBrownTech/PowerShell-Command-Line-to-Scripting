{
 "cells": [
  {
   "cell_type": "markdown",
   "id": "d2d0a424",
   "metadata": {},
   "source": [
    "# Working with Web Services\n",
    "\n",
    "In addition to working with local files, PowerShell can also interact with online data sources and web services. In this lesson, you’ll learn how to call APIs and download data using PowerShell’s two main web cmdlets: ```Invoke-RestMethod``` and ```Invoke-WebRequest```."
   ]
  },
  {
   "cell_type": "markdown",
   "id": "18087e25",
   "metadata": {},
   "source": [
    "## What is an API?\n",
    "\n",
    "An API (Application Programming Interface) allows different software systems to communicate with each other. It acts like a messenger — when your script sends a request to a server, the API processes that request and sends data back in a structured format (like JSON or XML).\n",
    "\n",
    "In PowerShell, APIs are useful when you want to:\n",
    "- Retrieve live data from a web service (like weather, stock prices, user info)\n",
    "- Send data to remote systems (like creating a user in Azure or updating a database)\n",
    "- Automate tasks that would normally require using a website or application manually"
   ]
  },
  {
   "cell_type": "markdown",
   "id": "5b0b71d1",
   "metadata": {},
   "source": [
    "## Invoke-RestMethod\n",
    "\n",
    "```Invoke-RestMethod``` is designed for structured API responses, where the data being returned is in JSON or XML format.\n",
    "\n",
    "\n",
    "Review the example below that calls a public, unathenticated API for a random joke. Save the results to a variable and access properties using dot notation."
   ]
  },
  {
   "cell_type": "code",
   "execution_count": 2,
   "id": "f36f4c38",
   "metadata": {},
   "outputs": [
    {
     "name": "stdout",
     "output_type": "stream",
     "text": [
      "What's Forest Gump's Facebook password?\n",
      "1forest1\n"
     ]
    }
   ],
   "source": [
    "# Get a random joke from a public API\n",
    "$response = Invoke-RestMethod -Uri \"https://official-joke-api.appspot.com/random_joke\"\n",
    "$response.setup\n",
    "$response.punchline"
   ]
  },
  {
   "cell_type": "markdown",
   "id": "36307b52",
   "metadata": {},
   "source": [
    "### HTTP Methods\n",
    "\n",
    "When you call an API, you don’t just connect — you also tell it what kind of action you want to take.\n",
    "You do this using something called an HTTP method (sometimes called an HTTP verb).\n",
    "\n",
    "Each method describes a basic action you want the server to perform.\n",
    "\n",
    "| Method   | What It Means                 | Example Use Case            |\n",
    "| -------- | ----------------------------- | --------------------------- |\n",
    "| `GET`    | Retrieve data from the server | Get a list of users         |\n",
    "| `POST`   | Send new data to the server   | Create a new user           |\n",
    "| `PUT`    | Update existing data          | Update a user’s information |\n",
    "| `DELETE` | Remove data from the server   | Delete a user account       |"
   ]
  },
  {
   "cell_type": "markdown",
   "id": "d7e766f2",
   "metadata": {},
   "source": [
    "### Headers\n",
    "\n",
    "When you send a request to an API, you're not just sending the URL — you often include extra information called **headers**.\n",
    "Headers are small pieces of data that tell the server more about who you are, what format you want, and how the server should handle your request.\n",
    "\n",
    "Some common types of information included in headers:\n",
    "- **Content-Type**: Tells the server what type of data you are sending.\n",
    "  Example: ```\"Content-Type: application/json\"```\n",
    "\n",
    "- **Accept**: Tells the server what type of data you want back.\n",
    "  Example: ```\"Accept: application/json\"```\n",
    "\n",
    "- **User-Agent**: Identifies the program making the request (like a browser or PowerShell script).\n",
    "  Example: ```\"User-Agent: PowerShell-Script\"```\n",
    "\n",
    "You can create header information in a hash table with key/value pairs. Using the ```-Headers``` parameter to pass the information along in your request.\n",
    "\n",
    "```powershell\n",
    "$headers = @{\n",
    "    \"Accept\" = \"application/json\"\n",
    "}\n",
    "\n",
    "$response = Invoke-RestMethod -Uri \"https://api.example.com/data\" -Headers $headers\n",
    "```"
   ]
  },
  {
   "cell_type": "markdown",
   "id": "8f35335e",
   "metadata": {},
   "source": [
    "### Body\n",
    "While you can receive data back from a server, you can also send data in the body of a request. The body carries the content, like a user's name, a message, or updated settings. You typically include a body when using methods like ```POST``` or ```PUT```.\n",
    "\n",
    "The body is often formatted as JSON, which is a structured way of sending key-value pairs the server can easily understand. In PowerShell, you create the body as an object, convert it to JSON, and then send it with the ```-Body``` parameter.\n",
    "\n",
    "```powershell\n",
    "$body = @{\n",
    "    Name  = \"John Doe\"\n",
    "    Email = \"john.doe@example.com\"\n",
    "} | ConvertTo-Json\n",
    "```"
   ]
  },
  {
   "cell_type": "markdown",
   "id": "d12a918c",
   "metadata": {},
   "source": [
    "### Authentication\n",
    "\n",
    "While some APIs are open, most require some type of authentication. When calling private APIs, you might need:\n",
    "\n",
    "- API Keys\n",
    "- Bearer Tokens\n",
    "- Basic Authentication (username/password)\n",
    "\n",
    "In the example below, the header contains a key value pair that presents the API endpoint with an authentication token.\n",
    "\n",
    "```powershell\n",
    "$headers = @{\n",
    "    \"Authorization\" = \"Bearer your-token-here\"\n",
    "    \"Content-Type\" = \"application/json\"\n",
    "}\n",
    "\n",
    "$response = Invoke-RestMethod -Uri \"https://api.example.com/data\" -Headers $headers\n",
    "```\n",
    "\n",
    "For basic authentication, create a credential object and pass it to the API using the ```-Credential``` parameter.\n",
    "\n",
    "```powershell\n",
    "$credential = Get-Credential\n",
    "$response = Invoke-RestMethod -Uri \"https://api.example.com/secure-data\" -Credential $credential\n",
    "```"
   ]
  },
  {
   "cell_type": "markdown",
   "id": "bada0f50",
   "metadata": {},
   "source": [
    "### Query Parameters\n",
    "\n",
    "Query parameters allow you to filter the results when making an API call. Query parameters are often designated using question marks (```?```) and can involve multiple conditions.\n",
    "\n",
    "In the example below, the query parameters is filtering on ```type``` and limiting the results.\n",
    "\n",
    "```powershell\n",
    "$response = Invoke-RestMethod -Uri \"https://api.example.com/items?type=book&limit=5\"\n",
    "```"
   ]
  },
  {
   "cell_type": "markdown",
   "id": "ddc89198",
   "metadata": {},
   "source": [
    "### Putting It All Together\n",
    "\n",
    "Taking each of the previous concepts, here is an example of:\n",
    "- Sending information to create a user\n",
    "- Defining headers\n",
    "- Sending the response\n",
    "\n",
    "```powershell\n",
    "# Define the data to send\n",
    "$body = @{\n",
    "    Name  = \"John Doe\"\n",
    "    Email = \"john.doe@example.com\"\n",
    "} | ConvertTo-Json\n",
    "\n",
    "# Define the headers\n",
    "$headers = @{\n",
    "    \"Authorization\" = \"Bearer mytoken\"\n",
    "    \"Content-Type\" = \"application/json\"\n",
    "}\n",
    "\n",
    "# Send the POST request\n",
    "$response = Invoke-RestMethod -Uri \"https://api.example.com/users\" -Method POST -Body $body -Headers $headers\n",
    "\n",
    "# Display the response\n",
    "$response\n",
    "```"
   ]
  },
  {
   "cell_type": "markdown",
   "id": "b4b687e2",
   "metadata": {},
   "source": [
    "## Invoke-WebRequest\n",
    "\n",
    "```Invoke-WebRequest``` is ideal for downloading files or getting raw web page content. Its structure is very similar to ```Invoke-RestMethod``` and can also be used to query API endpoints. However, it differs in that ```Invoke-WebRequest``` returns an object that includes headers, status codes, links, forms, and raw content.\n",
    "\n",
    "Run the code below to view the HTML page for the website."
   ]
  },
  {
   "cell_type": "code",
   "execution_count": null,
   "id": "eec19d31",
   "metadata": {},
   "outputs": [],
   "source": [
    "$page = Invoke-WebRequest -Uri \"https://example.com\"\n",
    "$page.Content  # Displays the HTML content"
   ]
  },
  {
   "cell_type": "markdown",
   "id": "b49a35b5",
   "metadata": {},
   "source": [
    "### Download a File\n",
    "```Invoke-WebRequest``` is great for downloading content. The example below uses the ```-OutFile``` parameter to save a file.\n",
    "\n",
    "```powershell\n",
    "Invoke-WebRequest -Uri \"https://example.com/file.zip\" -OutFile \".\\file.zip\"\n",
    "```"
   ]
  },
  {
   "cell_type": "markdown",
   "id": "e8e3c0be",
   "metadata": {},
   "source": [
    "## Invoke-RestMethod vs Invoke-WebRequest\n",
    "\n",
    "| Cmdlet              | Purpose                                   | Returns                                                     |\n",
    "| ------------------- | ----------------------------------------- | ----------------------------------------------------------- |\n",
    "| `Invoke-RestMethod` | Interact with REST APIs (structured data) | Deserialized objects (PSCustomObject)                       |\n",
    "| `Invoke-WebRequest` | Download web pages, files, HTML           | Full HTTP response object (includes headers, content, etc.) |\n"
   ]
  },
  {
   "cell_type": "markdown",
   "id": "566b7c23",
   "metadata": {},
   "source": [
    "## Exercise: Cat Facts\n",
    "\n",
    "Create a PowerShell script that:\n",
    "- Calls the API at https://catfact.ninja/fact to retrieve a random cat fact.\n",
    "- Displays only the fact text (not the other information).\n",
    "- **Bonus**: Save the cat fact to a local text file named catfact.txt.\n",
    "\n",
    "When ready, view a suggested solution here: [CatFactAPI.ps1](./solutions/CatFactAPI.ps1)"
   ]
  }
 ],
 "metadata": {
  "kernelspec": {
   "display_name": "PowerShell",
   "language": "powershell",
   "name": "powershell"
  },
  "language_info": {
   "codemirror_mode": "shell",
   "file_extension": ".ps1",
   "mimetype": "text/x-sh",
   "name": "powershell"
  }
 },
 "nbformat": 4,
 "nbformat_minor": 5
}
