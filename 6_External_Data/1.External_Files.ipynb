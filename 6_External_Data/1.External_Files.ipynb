{
 "cells": [
  {
   "cell_type": "markdown",
   "id": "927063b9",
   "metadata": {},
   "source": [
    "# Working with External Files\n",
    "PowerShell provides built-in tools to interact with many file types. Before working with structured data, it's important to understand how PowerShell reads from and writes to files in general, and how file formats like CSV, JSON, and XML differ in structure and purpose."
   ]
  },
  {
   "cell_type": "markdown",
   "id": "74ff51dc",
   "metadata": {},
   "source": [
    "## File Types Overview\n",
    "\n",
    "Format | Description | Best Used For\n",
    "-|-|-\n",
    ".txt | Plain text, line-based | Notes, logs, config snippets\n",
    ".csv | Comma-separated values | Tabular data like user lists\n",
    ".json | Structured, key-value format | API responses, configs\n",
    ".xml | Markup format with tags | Legacy data, hierarchical data"
   ]
  },
  {
   "cell_type": "markdown",
   "id": "7319e474",
   "metadata": {},
   "source": [
    "# Plain Text Files\n",
    "You can use Get-Content and Set-Content to work with plain text files.\n",
    "\n",
    "```powershell\n",
    "# Read contents of a text file\n",
    "Get-Content -Path .\\notes.txt\n",
    "\n",
    "# Write a line of text to a file (overwrites existing content)\n",
    "Set-Content -Path .\\notes.txt -Value \"This is a new note.\"\n",
    "\n",
    "# Append a line to the file\n",
    "Add-Content -Path .\\notes.txt -Value \"This line was added later.\"\n",
    "```\n",
    "\n",
    "#### Tip: Use ```-Raw``` to read the entire content as a single string."
   ]
  },
  {
   "cell_type": "markdown",
   "id": "6feaf922",
   "metadata": {},
   "source": [
    "## CSV Files\n",
    "CSV files are commonly used for tabular data. PowerShell’s Import-Csv and Export-Csv convert CSV content to and from PowerShell objects.\n",
    "\n",
    "```powershell\n",
    "# Sample data\n",
    "$nameList = @(\n",
    "    [pscustomobject]@{ Name = \"Alice\"; Age = 30 }\n",
    "    [pscustomobject]@{ Name = \"Bob\"; Age = 25 }\n",
    ")\n",
    "\n",
    "# Export to CSV\n",
    "$nameList | Export-Csv -Path .\\people.csv -NoTypeInformation\n",
    "\n",
    "# Import from CSV\n",
    "$importedList = Import-Csv -Path .\\people.csv\n",
    "```"
   ]
  },
  {
   "cell_type": "markdown",
   "id": "d829bc9e",
   "metadata": {},
   "source": [
    "## JSON Files\n",
    "JSON is often used in APIs and configuration files. PowerShell makes it easy to convert between JSON and objects.\n",
    "\n",
    "```powershell\n",
    "# Convert object to JSON and save to file\n",
    "$config = @{ Environment = \"Dev\"; Enabled = $true }\n",
    "$config | ConvertTo-Json | Set-Content -Path .\\config.json\n",
    "\n",
    "# Read from JSON file and convert to object\n",
    "$configData = Get-Content -Path .\\config.json | ConvertFrom-Json\n",
    "$configData.Environment\n",
    "```"
   ]
  },
  {
   "cell_type": "markdown",
   "id": "12751c77",
   "metadata": {},
   "source": [
    "## XML Files\n",
    "XML is another structured format PowerShell can work with natively.\n",
    "\n",
    "```powershell\n",
    "# Sample XML content\n",
    "[xml]$xmlData = Get-Content -Path .\\data.xml\n",
    "$xmlData.DocumentElement.ChildNodes\n",
    "\n",
    "# Create and save XML\n",
    "$xml = New-Object System.Xml.XmlDocument\n",
    "$root = $xml.CreateElement(\"Servers\")\n",
    "$server = $xml.CreateElement(\"Server\")\n",
    "$server.SetAttribute(\"name\", \"Web01\")\n",
    "$root.AppendChild($server)\n",
    "$xml.AppendChild($root)\n",
    "$xml.Save(\".\\servers.xml\")\n",
    "```"
   ]
  },
  {
   "cell_type": "markdown",
   "id": "b5f54c00",
   "metadata": {},
   "source": [
    "## Tips\n",
    "- Use ```-Raw``` with ```Get-Content``` when you want the full content as a single string.\n",
    "- When exporting data, ```-NoTypeInformation``` avoids adding metadata headers to CSVs.\n",
    "- Always validate file paths using ```Test-Path``` before reading or writing."
   ]
  }
 ],
 "metadata": {
  "language_info": {
   "name": "csharp"
  }
 },
 "nbformat": 4,
 "nbformat_minor": 5
}
